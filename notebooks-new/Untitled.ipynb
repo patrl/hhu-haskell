{
 "cells": [
  {
   "cell_type": "code",
   "execution_count": 7,
   "id": "372413e9-e3ee-480f-91f8-8ed6a587a791",
   "metadata": {
    "tags": []
   },
   "outputs": [],
   "source": [
    "data E = John | Mary | Bill | Sue"
   ]
  },
  {
   "cell_type": "code",
   "execution_count": 8,
   "id": "33a18092-1640-4e77-ba36-9b27ab2bafb7",
   "metadata": {
    "tags": []
   },
   "outputs": [],
   "source": [
    "isHappy :: E -> Bool\n",
    "isHappy Mary = True\n",
    "isHappy _ = False"
   ]
  },
  {
   "cell_type": "code",
   "execution_count": 10,
   "id": "fdd7c438-fc7d-4027-bca6-1776505fbd15",
   "metadata": {
    "tags": []
   },
   "outputs": [],
   "source": [
    "instance Show E where\n",
    "    show John = \"j\"\n",
    "    show Mary = \"m\"\n",
    "    show Bill = \"b\"\n",
    "    show Sue = \"s\""
   ]
  },
  {
   "cell_type": "code",
   "execution_count": 5,
   "id": "98dcc10e-dfcb-43a6-afad-cd5446348e55",
   "metadata": {
    "tags": []
   },
   "outputs": [
    {
     "data": {
      "text/plain": [
       "j"
      ]
     },
     "metadata": {},
     "output_type": "display_data"
    }
   ],
   "source": [
    "John"
   ]
  },
  {
   "cell_type": "code",
   "execution_count": 11,
   "id": "0c93bda5-cf13-4edc-9bdb-bb12a29eab11",
   "metadata": {
    "tags": []
   },
   "outputs": [],
   "source": [
    "data E' = Superman | ClarkKent | Lois"
   ]
  },
  {
   "cell_type": "code",
   "execution_count": 12,
   "id": "59a36dac-ac0a-4d78-9c7a-843e24a43c61",
   "metadata": {
    "tags": []
   },
   "outputs": [],
   "source": [
    "instance Eq E' where\n",
    "    Superman == ClarkKent = True\n",
    "    _ == _ = False"
   ]
  },
  {
   "cell_type": "code",
   "execution_count": null,
   "id": "d3dfc3a7-a3bc-40bc-bf23-02793d18d3dc",
   "metadata": {},
   "outputs": [],
   "source": []
  }
 ],
 "metadata": {
  "kernelspec": {
   "display_name": "haskell-minimal kernel",
   "language": "haskell",
   "name": "haskell-minimal"
  },
  "language_info": {
   "codemirror_mode": "Haskell",
   "file_extension": ".hs",
   "mimetype": "text/x-haskell",
   "name": "haskell",
   "pygments_lexer": "Haskell",
   "version": "9.0.2"
  }
 },
 "nbformat": 4,
 "nbformat_minor": 5
}
