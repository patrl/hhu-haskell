{
 "cells": [
  {
   "cell_type": "code",
   "execution_count": 1,
   "id": "acc68a8d-d353-433f-9e7c-b802f5db9c07",
   "metadata": {
    "tags": []
   },
   "outputs": [],
   "source": [
    "data PropL = PVar String | PNot PropL | PAnd PropL PropL | POr PropL PropL deriving (Eq, Show)"
   ]
  },
  {
   "cell_type": "code",
   "execution_count": 2,
   "id": "d56bd1a0-ec55-436a-a8b0-033cbc43ef95",
   "metadata": {
    "tags": []
   },
   "outputs": [],
   "source": [
    "dneTest = PNot (PNot (PVar \"p\"))\n",
    "\n",
    "dneTest2 = PNot (PNot dneTest)"
   ]
  },
  {
   "cell_type": "code",
   "execution_count": 4,
   "id": "71074dd2-a9ce-44bf-8a90-ea00fa0dad4a",
   "metadata": {
    "tags": []
   },
   "outputs": [],
   "source": [
    "dne :: PropL -> PropL\n",
    "dne (PNot (PNot p)) = dne p\n",
    "dne p = p"
   ]
  },
  {
   "cell_type": "code",
   "execution_count": 5,
   "id": "8880d026-1039-446b-a291-ec69fc688e0c",
   "metadata": {
    "tags": []
   },
   "outputs": [],
   "source": [
    "instance Show PropL where\n",
    "    show (PVar s) = s\n",
    "    show (PNot p) = \"~\" ++ show p\n",
    "    show (p `PAnd` q) = \"(\" ++ show p ++ \" & \" ++ show q ++ \")\"\n",
    "    show (p `POr` q) = \"(\" ++ show p ++ \" | \" ++ show q ++ \")\""
   ]
  },
  {
   "cell_type": "code",
   "execution_count": 6,
   "id": "66c199eb-2e7b-46e8-9b0e-4874b67f3a0b",
   "metadata": {
    "tags": []
   },
   "outputs": [
    {
     "data": {
      "text/plain": [
       "~~p"
      ]
     },
     "metadata": {},
     "output_type": "display_data"
    }
   ],
   "source": [
    "dneTest"
   ]
  },
  {
   "cell_type": "code",
   "execution_count": 7,
   "id": "2742eaf5-bcce-4c59-8b6d-67c9925ce849",
   "metadata": {
    "tags": []
   },
   "outputs": [
    {
     "data": {
      "text/plain": [
       "p"
      ]
     },
     "metadata": {},
     "output_type": "display_data"
    }
   ],
   "source": [
    "dne dneTest"
   ]
  },
  {
   "cell_type": "code",
   "execution_count": 8,
   "id": "3b71c236-19d5-46c5-a31f-ded1e3442658",
   "metadata": {
    "tags": []
   },
   "outputs": [
    {
     "data": {
      "text/plain": [
       "~~~~p"
      ]
     },
     "metadata": {},
     "output_type": "display_data"
    }
   ],
   "source": [
    "dneTest2"
   ]
  },
  {
   "cell_type": "code",
   "execution_count": 9,
   "id": "b7e6d3be-1c64-4c98-b014-a3ab1613b507",
   "metadata": {
    "tags": []
   },
   "outputs": [
    {
     "data": {
      "text/plain": [
       "p"
      ]
     },
     "metadata": {},
     "output_type": "display_data"
    }
   ],
   "source": [
    "dne dneTest2"
   ]
  },
  {
   "cell_type": "code",
   "execution_count": 34,
   "id": "a980fd1a-470a-4cf9-8630-602b1661175b",
   "metadata": {
    "tags": []
   },
   "outputs": [],
   "source": [
    "deMorgans :: PropL -> PropL\n",
    "deMorgans (PNot (p `PAnd` q)) = deMorgans (PNot p) `POr` deMorgans (PNot q)\n",
    "deMorgans (PNot (p `POr` q)) = deMorgans (PNot p) `PAnd` deMorgans (PNot q)\n",
    "deMorgans (PNot p) = PNot (deMorgans p)\n",
    "deMorgans (p `PAnd` q) = deMorgans p `PAnd` deMorgans q\n",
    "deMorgans (p `POr` q) = deMorgans p `POr` deMorgans q\n",
    "deMorgans p = p"
   ]
  },
  {
   "cell_type": "code",
   "execution_count": 35,
   "id": "bf582f13-2dc0-463f-8558-3f09a06f6200",
   "metadata": {
    "tags": []
   },
   "outputs": [],
   "source": [
    "dmTest1 = PNot (PVar \"p1\" `PAnd` PVar \"p2\") `POr` PNot (PVar \"p3\" `POr` PVar \"p4\")"
   ]
  },
  {
   "cell_type": "code",
   "execution_count": 36,
   "id": "8608b559-0171-4430-a0ee-36736f0c5178",
   "metadata": {
    "tags": []
   },
   "outputs": [
    {
     "data": {
      "text/plain": [
       "(~(p1 & p2) | ~(p3 | p4))"
      ]
     },
     "metadata": {},
     "output_type": "display_data"
    }
   ],
   "source": [
    "dmTest1"
   ]
  },
  {
   "cell_type": "markdown",
   "id": "7078a328-4e56-4ff1-bf92-e50058aa9083",
   "metadata": {},
   "source": [
    "`~p1 | ~p2 | (~p3 & ~p4)`"
   ]
  },
  {
   "cell_type": "code",
   "execution_count": 37,
   "id": "d1a517d2-c83c-4c07-83d9-6357d78dff9f",
   "metadata": {
    "tags": []
   },
   "outputs": [],
   "source": [
    "type VarAssignment = [(String,Bool)]"
   ]
  },
  {
   "cell_type": "code",
   "execution_count": 45,
   "id": "f85329d7-99a3-43f5-b58c-87e6ceca6c57",
   "metadata": {
    "tags": []
   },
   "outputs": [],
   "source": [
    "a1 :: VarAssignment\n",
    "a1 = [(\"p\", True),(\"q\", False)]"
   ]
  },
  {
   "cell_type": "code",
   "execution_count": null,
   "id": "d77b9b8c-f6f8-45d6-8b75-db75a367fe43",
   "metadata": {
    "tags": []
   },
   "outputs": [],
   "source": [
    "lookup :: (Eq a) => [(a,b)] -> a -> b\n",
    "lookup [] _ = undefined\n",
    "lookup ((key,val):ps) x = if key == x then val else lookup ps x"
   ]
  },
  {
   "cell_type": "code",
   "execution_count": null,
   "id": "be4a25db-ffc2-40e7-9822-2623c4c6dde6",
   "metadata": {
    "tags": []
   },
   "outputs": [
    {
     "data": {
      "text/plain": [
       "False"
      ]
     },
     "metadata": {},
     "output_type": "display_data"
    }
   ],
   "source": [
    "lookup a1 \"q\""
   ]
  },
  {
   "cell_type": "code",
   "execution_count": null,
   "id": "fb10f62d-ca50-403d-9a19-cbbdf7a62d00",
   "metadata": {},
   "outputs": [],
   "source": []
  }
 ],
 "metadata": {
  "kernelspec": {
   "display_name": "haskell-minimal kernel",
   "language": "haskell",
   "name": "haskell-minimal"
  },
  "language_info": {
   "codemirror_mode": "Haskell",
   "file_extension": ".hs",
   "mimetype": "text/x-haskell",
   "name": "haskell",
   "pygments_lexer": "Haskell",
   "version": "9.0.2"
  }
 },
 "nbformat": 4,
 "nbformat_minor": 5
}
