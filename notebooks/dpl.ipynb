{
 "cells": [
  {
   "cell_type": "markdown",
   "id": "ce413b9b-f6a4-42a3-b01b-3ead75940721",
   "metadata": {},
   "source": [
    "# DPL implementation"
   ]
  },
  {
   "cell_type": "markdown",
   "id": "d0e4c656-f28f-421c-8a7a-7cf1fef68ca5",
   "metadata": {},
   "source": [
    "## Syntax"
   ]
  },
  {
   "cell_type": "code",
   "execution_count": 26,
   "id": "913b6b6f-509f-41e3-909f-f0b9b7f787e1",
   "metadata": {
    "tags": []
   },
   "outputs": [],
   "source": [
    "data Formula = Exists Var | Even Var | DivBy3 Var | Formula `And` Formula\n",
    "\n",
    "newtype Var = Var Int deriving (Eq,Ord,Show)\n",
    "\n",
    "newtype Indiv = Indiv Int deriving (Eq,Ord,Show)\n",
    "\n",
    "_even :: Indiv -> Bool\n",
    "_even (Indiv n) = even n\n",
    "\n",
    "_divBy3 :: Indiv -> Bool\n",
    "_divBy3 (Indiv n) = n `rem` 3 == 0\n",
    "\n",
    "type Assignment = [Indiv]\n",
    "\n",
    "lookup :: Assignment -> Var -> Indiv\n",
    "lookup g (Var x) = g !! x\n",
    "\n",
    "_dom :: [Indiv]\n",
    "_dom = Indiv <$> [1..10]"
   ]
  },
  {
   "cell_type": "markdown",
   "id": "bcd01e1c-53bd-4848-baa6-0a747f5dfa58",
   "metadata": {},
   "source": [
    "## Semantics"
   ]
  },
  {
   "cell_type": "code",
   "execution_count": 40,
   "id": "f799bd92-07d6-4568-835f-522ccd11784f",
   "metadata": {
    "tags": []
   },
   "outputs": [],
   "source": [
    "eval :: Formula -> [Indiv] -> Assignment -> [Assignment]\n",
    "eval (Even x) dom g = [ g | _even (lookup g x) ]\n",
    "eval (DivBy3 (Var x)) dom g = undefined\n",
    "eval (Exists (Var x)) dom g = undefined\n",
    "eval (p `And` q) dom g = undefined\n"
   ]
  },
  {
   "cell_type": "code",
   "execution_count": 38,
   "id": "5e8d02c4-9da4-45c8-8c1e-20423bba90a3",
   "metadata": {
    "tags": []
   },
   "outputs": [
    {
     "data": {
      "text/plain": [
       "[[Indiv 2]]"
      ]
     },
     "metadata": {},
     "output_type": "display_data"
    }
   ],
   "source": [
    "_testA = [Indiv 2]\n",
    "_testA' = [Indiv 4]\n",
    "\n",
    "eval (Even (Var 0)) _testA\n",
    "\n"
   ]
  },
  {
   "cell_type": "code",
   "execution_count": null,
   "id": "ea694a9f-33c7-4f51-8a94-175d2c197c62",
   "metadata": {},
   "outputs": [],
   "source": []
  }
 ],
 "metadata": {
  "kernelspec": {
   "display_name": "haskell-minimal kernel",
   "language": "haskell",
   "name": "haskell-minimal"
  },
  "language_info": {
   "codemirror_mode": "Haskell",
   "file_extension": ".hs",
   "mimetype": "text/x-haskell",
   "name": "haskell",
   "pygments_lexer": "Haskell",
   "version": "9.0.2"
  }
 },
 "nbformat": 4,
 "nbformat_minor": 5
}
