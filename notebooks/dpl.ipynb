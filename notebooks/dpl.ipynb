{
 "cells": [
  {
   "cell_type": "markdown",
   "id": "ce413b9b-f6a4-42a3-b01b-3ead75940721",
   "metadata": {},
   "source": [
    "# DPL implementation"
   ]
  },
  {
   "cell_type": "markdown",
   "id": "d0e4c656-f28f-421c-8a7a-7cf1fef68ca5",
   "metadata": {},
   "source": [
    "## Syntax"
   ]
  },
  {
   "cell_type": "code",
   "execution_count": null,
   "id": "913b6b6f-509f-41e3-909f-f0b9b7f787e1",
   "metadata": {
    "tags": []
   },
   "outputs": [],
   "source": [
    "data Formula = Exists Var | Even Var | DivBy3 Var | Formula `And` Formula | Not Formula\n",
    "\n",
    "newtype Var = Var Int deriving (Eq,Ord,Show)\n",
    "\n",
    "newtype Indiv = Indiv Int deriving (Eq,Ord)\n",
    "\n",
    "instance Show Indiv where\n",
    "  show (Indiv n) = \"e\" ++ show n\n",
    "\n",
    "_even :: Indiv -> Bool\n",
    "_even (Indiv n) = even n\n",
    "\n",
    "_divBy3 :: Indiv -> Bool\n",
    "_divBy3 (Indiv n) = n `rem` 3 == 0\n",
    "\n",
    "type Assignment = [Indiv]\n",
    "\n",
    "lookup :: Assignment -> Var -> Indiv\n",
    "lookup g (Var x) = g !! x\n",
    "\n",
    "_dom :: [Indiv]\n",
    "_dom = Indiv <$> [1..10]"
   ]
  },
  {
   "cell_type": "markdown",
   "id": "bcd01e1c-53bd-4848-baa6-0a747f5dfa58",
   "metadata": {},
   "source": [
    "## Semantics"
   ]
  },
  {
   "cell_type": "code",
   "execution_count": null,
   "id": "9dc34bb7-b8b7-43eb-b2bc-942f1b92dd7f",
   "metadata": {
    "tags": []
   },
   "outputs": [],
   "source": [
    "insert :: [a] -> Var -> a -> [a]\n",
    "insert oldList (Var index) val = if index > length oldList then undefined else concat [take index oldList, [val], drop (index + 1) oldList ]"
   ]
  },
  {
   "cell_type": "code",
   "execution_count": null,
   "id": "afab1f8f-22dc-4c3c-ade9-cbe4d9e094f1",
   "metadata": {
    "tags": []
   },
   "outputs": [],
   "source": [
    "randomAssignment :: Assignment -> [Indiv] -> Var -> [Assignment]\n",
    "randomAssignment g dom x = [ insert g x a | a <- dom ] "
   ]
  },
  {
   "cell_type": "code",
   "execution_count": null,
   "id": "44405bb6-5981-42ce-8a14-16b71dcc37bf",
   "metadata": {
    "tags": []
   },
   "outputs": [],
   "source": [
    "eval :: Formula -> [Indiv] -> Assignment -> [Assignment]\n",
    "eval (Even x) dom g = [ g | _even (lookup g x) ]\n",
    "eval (DivBy3 x) dom g = [ g | _divBy3 (lookup g x) ]\n",
    "eval (Exists x) dom g = randomAssignment g dom x\n",
    "eval (p `And` q) dom g = concat [ eval q dom h | h <- eval p dom g ]\n",
    "eval (Not p) dom g = [ g | null $ eval p dom g ]\n",
    "\n",
    "_Or :: Formula -> Formula -> Formula\n",
    "_Or p q = Not (Not p `And` Not q)\n",
    "\n",
    "_If :: Formula -> Formula -> Formula\n",
    "_If p q = Not (p `And` Not q)"
   ]
  },
  {
   "cell_type": "code",
   "execution_count": null,
   "id": "be75e25c-d111-49da-8398-8135fd4f977c",
   "metadata": {},
   "outputs": [],
   "source": [
    "randomAssignment [Indiv 3, Indiv 7] _dom (Var 0)"
   ]
  },
  {
   "cell_type": "markdown",
   "id": "d804fe12-d768-4e5d-ae98-dcbe1b70e518",
   "metadata": {},
   "source": [
    "$g[p and q]h = \\text{there is some }i g[p]i\\text{ and }i[q]h$"
   ]
  },
  {
   "cell_type": "markdown",
   "id": "2c86ac65-afbb-4157-a5aa-816c0d73b68c",
   "metadata": {},
   "source": [
    "There is some even number\n",
    "\n",
    "$\\exists x \\wedge Even(x)$"
   ]
  },
  {
   "cell_type": "code",
   "execution_count": null,
   "id": "3113f5e6-00fe-4da9-8b2d-76a606e799ba",
   "metadata": {
    "tags": []
   },
   "outputs": [],
   "source": [
    "testExistential :: Formula\n",
    "testExistential = Exists (Var 0) `And` Even (Var 0)\n",
    "\n",
    "testNot = Not testExistential\n",
    "\n",
    "eval testNot (Indiv <$> [3,9,5]) [Indiv 3]"
   ]
  },
  {
   "cell_type": "markdown",
   "id": "65f19b2d-b77d-4727-98ea-9c1d8b22d8b0",
   "metadata": {},
   "source": [
    "1. There's no even number, and it's prime"
   ]
  },
  {
   "cell_type": "markdown",
   "id": "d5a902c3-0b49-47a5-882b-c0e37609de8c",
   "metadata": {},
   "source": [
    "There's an even number and it's divisible by 3.\n",
    "\n",
    "$\\exists x[even(3)] \\wedge divby3(x)$"
   ]
  },
  {
   "cell_type": "code",
   "execution_count": null,
   "id": "8d8682ea-2834-4cd2-8204-8e0dfc332fa4",
   "metadata": {
    "tags": []
   },
   "outputs": [],
   "source": [
    "eval (testExistential `And` DivBy3 (Var 0)) _dom [Indiv 3, Indiv 7]"
   ]
  },
  {
   "cell_type": "markdown",
   "id": "e954fd58-7147-4a12-8d4d-9492518e3f5c",
   "metadata": {},
   "source": [
    "## Negation"
   ]
  },
  {
   "cell_type": "markdown",
   "id": "f392fb49-2597-4d88-a74f-f91d6f03c2c8",
   "metadata": {},
   "source": [
    "1. I haven't read a book by Chomsky. #It was interesting\n",
    "2. Someone isn't here.\n",
    "3. It's not the case that anyone is here.\n",
    "\n",
    "$not p = \\lambda g\\,.\\,\\lbrace g | p(g) = \\emptyset \\rbrace$\n",
    "\n",
    "4. There isn't an even number.\n",
    "\n",
    "$\\lambda g\\,.\\,\\lbrace g | \\text{there isn't an even number}\\rbrace$"
   ]
  },
  {
   "cell_type": "markdown",
   "id": "1026ddf2-ea08-4402-8305-b12f5a4faabb",
   "metadata": {},
   "source": [
    "## Pretty printing the output set"
   ]
  },
  {
   "cell_type": "code",
   "execution_count": null,
   "id": "9b985808-e6ea-4615-9e21-3273e0bcd0dd",
   "metadata": {},
   "outputs": [],
   "source": []
  },
  {
   "cell_type": "markdown",
   "id": "525bb308-774c-49e4-bba5-ce3f393b159a",
   "metadata": {
    "tags": []
   },
   "source": [
    "`insert [Indiv 1] 0 (Indiv 2) = [Indiv 2]`"
   ]
  },
  {
   "cell_type": "code",
   "execution_count": null,
   "id": "e439e165-41b7-4c30-b051-52c7306afb48",
   "metadata": {
    "tags": []
   },
   "outputs": [],
   "source": [
    "f :: Assignment -> String\n",
    "f g = unwords (map show g)"
   ]
  },
  {
   "cell_type": "code",
   "execution_count": null,
   "id": "213eae8c-2d34-4b5a-a0b9-187efbd033a6",
   "metadata": {
    "tags": []
   },
   "outputs": [],
   "source": [
    "f' :: [Assignment] -> String\n",
    "f' as@(g:gs) = unlines $ unwords (intersperse \"\" (map show [0..(maxLength as - 1)])) : (f <$> as)"
   ]
  },
  {
   "cell_type": "code",
   "execution_count": null,
   "id": "a97eb62f-4cc7-4204-b3be-ea3b67a73d74",
   "metadata": {
    "tags": []
   },
   "outputs": [],
   "source": [
    "ppOutput :: [Assignment] -> IO ()\n",
    "ppOutput = putStrLn . f'"
   ]
  },
  {
   "cell_type": "code",
   "execution_count": null,
   "id": "d52720e5-abe9-45de-8cd0-368fdf8f0c95",
   "metadata": {},
   "outputs": [],
   "source": []
  },
  {
   "cell_type": "markdown",
   "id": "c3f4b3da-b5cc-43d5-9f54-242bce538483",
   "metadata": {},
   "source": [
    "# Functors"
   ]
  },
  {
   "cell_type": "code",
   "execution_count": 1,
   "id": "460529a5-703d-4c94-adc1-26de49affebf",
   "metadata": {
    "tags": []
   },
   "outputs": [
    {
     "data": {
      "text/html": [
       "<style>/* Styles used for the Hoogle display in the pager */\n",
       ".hoogle-doc {\n",
       "display: block;\n",
       "padding-bottom: 1.3em;\n",
       "padding-left: 0.4em;\n",
       "}\n",
       ".hoogle-code {\n",
       "display: block;\n",
       "font-family: monospace;\n",
       "white-space: pre;\n",
       "}\n",
       ".hoogle-text {\n",
       "display: block;\n",
       "}\n",
       ".hoogle-name {\n",
       "color: green;\n",
       "font-weight: bold;\n",
       "}\n",
       ".hoogle-head {\n",
       "font-weight: bold;\n",
       "}\n",
       ".hoogle-sub {\n",
       "display: block;\n",
       "margin-left: 0.4em;\n",
       "}\n",
       ".hoogle-package {\n",
       "font-weight: bold;\n",
       "font-style: italic;\n",
       "}\n",
       ".hoogle-module {\n",
       "font-weight: bold;\n",
       "}\n",
       ".hoogle-class {\n",
       "font-weight: bold;\n",
       "}\n",
       ".get-type {\n",
       "color: green;\n",
       "font-weight: bold;\n",
       "font-family: monospace;\n",
       "display: block;\n",
       "white-space: pre-wrap;\n",
       "}\n",
       ".show-type {\n",
       "color: green;\n",
       "font-weight: bold;\n",
       "font-family: monospace;\n",
       "margin-left: 1em;\n",
       "}\n",
       ".mono {\n",
       "font-family: monospace;\n",
       "display: block;\n",
       "}\n",
       ".err-msg {\n",
       "color: red;\n",
       "font-style: italic;\n",
       "font-family: monospace;\n",
       "white-space: pre;\n",
       "display: block;\n",
       "}\n",
       "#unshowable {\n",
       "color: red;\n",
       "font-weight: bold;\n",
       "}\n",
       ".err-msg.in.collapse {\n",
       "padding-top: 0.7em;\n",
       "}\n",
       ".highlight-code {\n",
       "white-space: pre;\n",
       "font-family: monospace;\n",
       "}\n",
       ".suggestion-warning { \n",
       "font-weight: bold;\n",
       "color: rgb(200, 130, 0);\n",
       "}\n",
       ".suggestion-error { \n",
       "font-weight: bold;\n",
       "color: red;\n",
       "}\n",
       ".suggestion-name {\n",
       "font-weight: bold;\n",
       "}\n",
       "</style><span class='get-type'>(+) :: forall {a}. Num a => a -> a -> a</span>"
      ],
      "text/plain": [
       "(+) :: forall {a}. Num a => a -> a -> a"
      ]
     },
     "metadata": {},
     "output_type": "display_data"
    }
   ],
   "source": [
    ":t (+)"
   ]
  },
  {
   "cell_type": "code",
   "execution_count": 2,
   "id": "553cf0a9-6cc5-4477-beb4-b6bba0b40d35",
   "metadata": {
    "tags": []
   },
   "outputs": [],
   "source": [
    "data Person = ClarkKent | Superman | Lois\n",
    "\n",
    "instance Eq Person where\n",
    "    ClarkKent == ClarkKent = True\n",
    "    ClarkKent == Superman = True\n",
    "    Lois == Lois = True\n",
    "    _ == _ = False"
   ]
  },
  {
   "cell_type": "code",
   "execution_count": 7,
   "id": "d7c5a5bf-7a60-412f-8e72-32bb977b5e2a",
   "metadata": {
    "tags": []
   },
   "outputs": [
    {
     "data": {
      "text/plain": [
       "True"
      ]
     },
     "metadata": {},
     "output_type": "display_data"
    }
   ],
   "source": [
    "ClarkKent == Superman"
   ]
  },
  {
   "cell_type": "markdown",
   "id": "fa323f9c-29be-4f73-9048-7224e708ded8",
   "metadata": {},
   "source": [
    "``` haskell\n",
    "class Functor f where\n",
    "    fmap :: (a -> b) -> f a -> f b\n",
    "```"
   ]
  },
  {
   "cell_type": "markdown",
   "id": "613ed762-bf8f-40fb-9319-a2ad72a0c95a",
   "metadata": {},
   "source": [
    "## Functor laws\n",
    "\n",
    "``` haskell\n",
    "fmap id = id\n",
    "fmap (f . g)  ==  fmap f . fmap g\n",
    "```"
   ]
  },
  {
   "cell_type": "code",
   "execution_count": 18,
   "id": "2dfe60e4-05bf-40e7-ad03-c6e29ee8f950",
   "metadata": {
    "tags": []
   },
   "outputs": [],
   "source": [
    "data Perhaps a = Definitely a | Oops deriving Show"
   ]
  },
  {
   "cell_type": "code",
   "execution_count": 26,
   "id": "03bf1edd-8153-4373-9770-a2dff3089238",
   "metadata": {
    "tags": []
   },
   "outputs": [],
   "source": [
    "{-# LANGUAGE InstanceSigs #-}\n",
    "\n",
    "instance Functor Perhaps where\n",
    "  fmap :: (a -> b) -> Perhaps a -> Perhaps b\n",
    "  fmap f Oops = Oops \n",
    "  fmap f (Definitely x) = Definitely (f x)"
   ]
  },
  {
   "cell_type": "code",
   "execution_count": 28,
   "id": "e28b12eb-25b6-45bc-832a-11b929226ac9",
   "metadata": {
    "tags": []
   },
   "outputs": [
    {
     "data": {
      "text/html": [
       "<style>/* Styles used for the Hoogle display in the pager */\n",
       ".hoogle-doc {\n",
       "display: block;\n",
       "padding-bottom: 1.3em;\n",
       "padding-left: 0.4em;\n",
       "}\n",
       ".hoogle-code {\n",
       "display: block;\n",
       "font-family: monospace;\n",
       "white-space: pre;\n",
       "}\n",
       ".hoogle-text {\n",
       "display: block;\n",
       "}\n",
       ".hoogle-name {\n",
       "color: green;\n",
       "font-weight: bold;\n",
       "}\n",
       ".hoogle-head {\n",
       "font-weight: bold;\n",
       "}\n",
       ".hoogle-sub {\n",
       "display: block;\n",
       "margin-left: 0.4em;\n",
       "}\n",
       ".hoogle-package {\n",
       "font-weight: bold;\n",
       "font-style: italic;\n",
       "}\n",
       ".hoogle-module {\n",
       "font-weight: bold;\n",
       "}\n",
       ".hoogle-class {\n",
       "font-weight: bold;\n",
       "}\n",
       ".get-type {\n",
       "color: green;\n",
       "font-weight: bold;\n",
       "font-family: monospace;\n",
       "display: block;\n",
       "white-space: pre-wrap;\n",
       "}\n",
       ".show-type {\n",
       "color: green;\n",
       "font-weight: bold;\n",
       "font-family: monospace;\n",
       "margin-left: 1em;\n",
       "}\n",
       ".mono {\n",
       "font-family: monospace;\n",
       "display: block;\n",
       "}\n",
       ".err-msg {\n",
       "color: red;\n",
       "font-style: italic;\n",
       "font-family: monospace;\n",
       "white-space: pre;\n",
       "display: block;\n",
       "}\n",
       "#unshowable {\n",
       "color: red;\n",
       "font-weight: bold;\n",
       "}\n",
       ".err-msg.in.collapse {\n",
       "padding-top: 0.7em;\n",
       "}\n",
       ".highlight-code {\n",
       "white-space: pre;\n",
       "font-family: monospace;\n",
       "}\n",
       ".suggestion-warning { \n",
       "font-weight: bold;\n",
       "color: rgb(200, 130, 0);\n",
       "}\n",
       ".suggestion-error { \n",
       "font-weight: bold;\n",
       "color: red;\n",
       "}\n",
       ".suggestion-name {\n",
       "font-weight: bold;\n",
       "}\n",
       "</style><span class='get-type'>even :: forall {a}. Integral a => a -> Bool</span>"
      ],
      "text/plain": [
       "even :: forall {a}. Integral a => a -> Bool"
      ]
     },
     "metadata": {},
     "output_type": "display_data"
    }
   ],
   "source": [
    ":t even"
   ]
  },
  {
   "cell_type": "code",
   "execution_count": 29,
   "id": "3950c122-7b96-4d6f-9513-2090e0517ec2",
   "metadata": {
    "tags": []
   },
   "outputs": [
    {
     "data": {
      "text/html": [
       "<style>/* Styles used for the Hoogle display in the pager */\n",
       ".hoogle-doc {\n",
       "display: block;\n",
       "padding-bottom: 1.3em;\n",
       "padding-left: 0.4em;\n",
       "}\n",
       ".hoogle-code {\n",
       "display: block;\n",
       "font-family: monospace;\n",
       "white-space: pre;\n",
       "}\n",
       ".hoogle-text {\n",
       "display: block;\n",
       "}\n",
       ".hoogle-name {\n",
       "color: green;\n",
       "font-weight: bold;\n",
       "}\n",
       ".hoogle-head {\n",
       "font-weight: bold;\n",
       "}\n",
       ".hoogle-sub {\n",
       "display: block;\n",
       "margin-left: 0.4em;\n",
       "}\n",
       ".hoogle-package {\n",
       "font-weight: bold;\n",
       "font-style: italic;\n",
       "}\n",
       ".hoogle-module {\n",
       "font-weight: bold;\n",
       "}\n",
       ".hoogle-class {\n",
       "font-weight: bold;\n",
       "}\n",
       ".get-type {\n",
       "color: green;\n",
       "font-weight: bold;\n",
       "font-family: monospace;\n",
       "display: block;\n",
       "white-space: pre-wrap;\n",
       "}\n",
       ".show-type {\n",
       "color: green;\n",
       "font-weight: bold;\n",
       "font-family: monospace;\n",
       "margin-left: 1em;\n",
       "}\n",
       ".mono {\n",
       "font-family: monospace;\n",
       "display: block;\n",
       "}\n",
       ".err-msg {\n",
       "color: red;\n",
       "font-style: italic;\n",
       "font-family: monospace;\n",
       "white-space: pre;\n",
       "display: block;\n",
       "}\n",
       "#unshowable {\n",
       "color: red;\n",
       "font-weight: bold;\n",
       "}\n",
       ".err-msg.in.collapse {\n",
       "padding-top: 0.7em;\n",
       "}\n",
       ".highlight-code {\n",
       "white-space: pre;\n",
       "font-family: monospace;\n",
       "}\n",
       ".suggestion-warning { \n",
       "font-weight: bold;\n",
       "color: rgb(200, 130, 0);\n",
       "}\n",
       ".suggestion-error { \n",
       "font-weight: bold;\n",
       "color: red;\n",
       "}\n",
       ".suggestion-name {\n",
       "font-weight: bold;\n",
       "}\n",
       "</style><span class='get-type'>not :: Bool -> Bool</span>"
      ],
      "text/plain": [
       "not :: Bool -> Bool"
      ]
     },
     "metadata": {},
     "output_type": "display_data"
    }
   ],
   "source": [
    ":t not"
   ]
  },
  {
   "cell_type": "code",
   "execution_count": 30,
   "id": "7770ca9c-61d5-4d3a-9f12-7d11984bb29f",
   "metadata": {
    "tags": []
   },
   "outputs": [
    {
     "data": {
      "text/html": [
       "<style>/* Styles used for the Hoogle display in the pager */\n",
       ".hoogle-doc {\n",
       "display: block;\n",
       "padding-bottom: 1.3em;\n",
       "padding-left: 0.4em;\n",
       "}\n",
       ".hoogle-code {\n",
       "display: block;\n",
       "font-family: monospace;\n",
       "white-space: pre;\n",
       "}\n",
       ".hoogle-text {\n",
       "display: block;\n",
       "}\n",
       ".hoogle-name {\n",
       "color: green;\n",
       "font-weight: bold;\n",
       "}\n",
       ".hoogle-head {\n",
       "font-weight: bold;\n",
       "}\n",
       ".hoogle-sub {\n",
       "display: block;\n",
       "margin-left: 0.4em;\n",
       "}\n",
       ".hoogle-package {\n",
       "font-weight: bold;\n",
       "font-style: italic;\n",
       "}\n",
       ".hoogle-module {\n",
       "font-weight: bold;\n",
       "}\n",
       ".hoogle-class {\n",
       "font-weight: bold;\n",
       "}\n",
       ".get-type {\n",
       "color: green;\n",
       "font-weight: bold;\n",
       "font-family: monospace;\n",
       "display: block;\n",
       "white-space: pre-wrap;\n",
       "}\n",
       ".show-type {\n",
       "color: green;\n",
       "font-weight: bold;\n",
       "font-family: monospace;\n",
       "margin-left: 1em;\n",
       "}\n",
       ".mono {\n",
       "font-family: monospace;\n",
       "display: block;\n",
       "}\n",
       ".err-msg {\n",
       "color: red;\n",
       "font-style: italic;\n",
       "font-family: monospace;\n",
       "white-space: pre;\n",
       "display: block;\n",
       "}\n",
       "#unshowable {\n",
       "color: red;\n",
       "font-weight: bold;\n",
       "}\n",
       ".err-msg.in.collapse {\n",
       "padding-top: 0.7em;\n",
       "}\n",
       ".highlight-code {\n",
       "white-space: pre;\n",
       "font-family: monospace;\n",
       "}\n",
       ".suggestion-warning { \n",
       "font-weight: bold;\n",
       "color: rgb(200, 130, 0);\n",
       "}\n",
       ".suggestion-error { \n",
       "font-weight: bold;\n",
       "color: red;\n",
       "}\n",
       ".suggestion-name {\n",
       "font-weight: bold;\n",
       "}\n",
       "</style><span class='get-type'>(not . even) :: forall {a}. Integral a => a -> Bool</span>"
      ],
      "text/plain": [
       "(not . even) :: forall {a}. Integral a => a -> Bool"
      ]
     },
     "metadata": {},
     "output_type": "display_data"
    }
   ],
   "source": [
    ":t (not . even)"
   ]
  },
  {
   "cell_type": "code",
   "execution_count": 32,
   "id": "b79b4e51-7aae-4add-8b8c-1a8b04a6c552",
   "metadata": {
    "tags": []
   },
   "outputs": [
    {
     "data": {
      "text/html": [
       "<style>/* Styles used for the Hoogle display in the pager */\n",
       ".hoogle-doc {\n",
       "display: block;\n",
       "padding-bottom: 1.3em;\n",
       "padding-left: 0.4em;\n",
       "}\n",
       ".hoogle-code {\n",
       "display: block;\n",
       "font-family: monospace;\n",
       "white-space: pre;\n",
       "}\n",
       ".hoogle-text {\n",
       "display: block;\n",
       "}\n",
       ".hoogle-name {\n",
       "color: green;\n",
       "font-weight: bold;\n",
       "}\n",
       ".hoogle-head {\n",
       "font-weight: bold;\n",
       "}\n",
       ".hoogle-sub {\n",
       "display: block;\n",
       "margin-left: 0.4em;\n",
       "}\n",
       ".hoogle-package {\n",
       "font-weight: bold;\n",
       "font-style: italic;\n",
       "}\n",
       ".hoogle-module {\n",
       "font-weight: bold;\n",
       "}\n",
       ".hoogle-class {\n",
       "font-weight: bold;\n",
       "}\n",
       ".get-type {\n",
       "color: green;\n",
       "font-weight: bold;\n",
       "font-family: monospace;\n",
       "display: block;\n",
       "white-space: pre-wrap;\n",
       "}\n",
       ".show-type {\n",
       "color: green;\n",
       "font-weight: bold;\n",
       "font-family: monospace;\n",
       "margin-left: 1em;\n",
       "}\n",
       ".mono {\n",
       "font-family: monospace;\n",
       "display: block;\n",
       "}\n",
       ".err-msg {\n",
       "color: red;\n",
       "font-style: italic;\n",
       "font-family: monospace;\n",
       "white-space: pre;\n",
       "display: block;\n",
       "}\n",
       "#unshowable {\n",
       "color: red;\n",
       "font-weight: bold;\n",
       "}\n",
       ".err-msg.in.collapse {\n",
       "padding-top: 0.7em;\n",
       "}\n",
       ".highlight-code {\n",
       "white-space: pre;\n",
       "font-family: monospace;\n",
       "}\n",
       ".suggestion-warning { \n",
       "font-weight: bold;\n",
       "color: rgb(200, 130, 0);\n",
       "}\n",
       ".suggestion-error { \n",
       "font-weight: bold;\n",
       "color: red;\n",
       "}\n",
       ".suggestion-name {\n",
       "font-weight: bold;\n",
       "}\n",
       "</style><div class=\"suggestion-name\" style=\"clear:both;\">Use odd</div><div class=\"suggestion-row\" style=\"float: left;\"><div class=\"suggestion-warning\">Found:</div><div class=\"highlight-code\" id=\"haskell\">not . even</div></div><div class=\"suggestion-row\" style=\"float: left;\"><div class=\"suggestion-warning\">Why Not:</div><div class=\"highlight-code\" id=\"haskell\">odd</div></div><div class=\"suggestion-name\" style=\"clear:both;\">Functor law</div><div class=\"suggestion-row\" style=\"float: left;\"><div class=\"suggestion-warning\">Found:</div><div class=\"highlight-code\" id=\"haskell\">fmap not . fmap even</div></div><div class=\"suggestion-row\" style=\"float: left;\"><div class=\"suggestion-warning\">Why Not:</div><div class=\"highlight-code\" id=\"haskell\">fmap (not . even)</div></div>"
      ],
      "text/plain": [
       "Line 1: Use odd\n",
       "Found:\n",
       "not . even\n",
       "Why not:\n",
       "oddLine 5: Functor law\n",
       "Found:\n",
       "fmap not . fmap even\n",
       "Why not:\n",
       "fmap (not . even)"
      ]
     },
     "metadata": {},
     "output_type": "display_data"
    },
    {
     "data": {
      "text/plain": [
       "Definitely True"
      ]
     },
     "metadata": {},
     "output_type": "display_data"
    },
    {
     "data": {
      "text/plain": [
       "Definitely True"
      ]
     },
     "metadata": {},
     "output_type": "display_data"
    }
   ],
   "source": [
    "fmap (not . even) (Definitely 3)\n",
    "-- Definitely $ (not . even) 3\n",
    "-- Definitely True\n",
    "\n",
    "(fmap not . fmap even) (Definitely 3)\n",
    "-- fmap not (fmap even (Definitely 3))\n",
    "-- fmap not (Definitely (even 3))\n",
    "-- fmap not (Definitely False)\n",
    "-- Definitely (not False)\n",
    "-- Definitely True"
   ]
  },
  {
   "cell_type": "code",
   "execution_count": 35,
   "id": "32c64b9d-75e4-4bc3-a391-9713d0bc2587",
   "metadata": {
    "tags": []
   },
   "outputs": [],
   "source": [
    "data Counter a = Counter Int a deriving Show"
   ]
  },
  {
   "cell_type": "code",
   "execution_count": 37,
   "id": "6a27536d-a3ae-4962-8151-ed62eab7522b",
   "metadata": {
    "tags": []
   },
   "outputs": [
    {
     "data": {
      "text/html": [
       "<style>/* Styles used for the Hoogle display in the pager */\n",
       ".hoogle-doc {\n",
       "display: block;\n",
       "padding-bottom: 1.3em;\n",
       "padding-left: 0.4em;\n",
       "}\n",
       ".hoogle-code {\n",
       "display: block;\n",
       "font-family: monospace;\n",
       "white-space: pre;\n",
       "}\n",
       ".hoogle-text {\n",
       "display: block;\n",
       "}\n",
       ".hoogle-name {\n",
       "color: green;\n",
       "font-weight: bold;\n",
       "}\n",
       ".hoogle-head {\n",
       "font-weight: bold;\n",
       "}\n",
       ".hoogle-sub {\n",
       "display: block;\n",
       "margin-left: 0.4em;\n",
       "}\n",
       ".hoogle-package {\n",
       "font-weight: bold;\n",
       "font-style: italic;\n",
       "}\n",
       ".hoogle-module {\n",
       "font-weight: bold;\n",
       "}\n",
       ".hoogle-class {\n",
       "font-weight: bold;\n",
       "}\n",
       ".get-type {\n",
       "color: green;\n",
       "font-weight: bold;\n",
       "font-family: monospace;\n",
       "display: block;\n",
       "white-space: pre-wrap;\n",
       "}\n",
       ".show-type {\n",
       "color: green;\n",
       "font-weight: bold;\n",
       "font-family: monospace;\n",
       "margin-left: 1em;\n",
       "}\n",
       ".mono {\n",
       "font-family: monospace;\n",
       "display: block;\n",
       "}\n",
       ".err-msg {\n",
       "color: red;\n",
       "font-style: italic;\n",
       "font-family: monospace;\n",
       "white-space: pre;\n",
       "display: block;\n",
       "}\n",
       "#unshowable {\n",
       "color: red;\n",
       "font-weight: bold;\n",
       "}\n",
       ".err-msg.in.collapse {\n",
       "padding-top: 0.7em;\n",
       "}\n",
       ".highlight-code {\n",
       "white-space: pre;\n",
       "font-family: monospace;\n",
       "}\n",
       ".suggestion-warning { \n",
       "font-weight: bold;\n",
       "color: rgb(200, 130, 0);\n",
       "}\n",
       ".suggestion-error { \n",
       "font-weight: bold;\n",
       "color: red;\n",
       "}\n",
       ".suggestion-name {\n",
       "font-weight: bold;\n",
       "}\n",
       "</style><span class='get-type'>(Counter 3 True) :: Counter Bool</span>"
      ],
      "text/plain": [
       "(Counter 3 True) :: Counter Bool"
      ]
     },
     "metadata": {},
     "output_type": "display_data"
    }
   ],
   "source": [
    ":t (Counter 3 True)"
   ]
  },
  {
   "cell_type": "code",
   "execution_count": 38,
   "id": "a6f1ab6a-7aae-4925-9b41-4b051e33a5ce",
   "metadata": {
    "tags": []
   },
   "outputs": [
    {
     "data": {
      "text/html": [
       "<style>/* Styles used for the Hoogle display in the pager */\n",
       ".hoogle-doc {\n",
       "display: block;\n",
       "padding-bottom: 1.3em;\n",
       "padding-left: 0.4em;\n",
       "}\n",
       ".hoogle-code {\n",
       "display: block;\n",
       "font-family: monospace;\n",
       "white-space: pre;\n",
       "}\n",
       ".hoogle-text {\n",
       "display: block;\n",
       "}\n",
       ".hoogle-name {\n",
       "color: green;\n",
       "font-weight: bold;\n",
       "}\n",
       ".hoogle-head {\n",
       "font-weight: bold;\n",
       "}\n",
       ".hoogle-sub {\n",
       "display: block;\n",
       "margin-left: 0.4em;\n",
       "}\n",
       ".hoogle-package {\n",
       "font-weight: bold;\n",
       "font-style: italic;\n",
       "}\n",
       ".hoogle-module {\n",
       "font-weight: bold;\n",
       "}\n",
       ".hoogle-class {\n",
       "font-weight: bold;\n",
       "}\n",
       ".get-type {\n",
       "color: green;\n",
       "font-weight: bold;\n",
       "font-family: monospace;\n",
       "display: block;\n",
       "white-space: pre-wrap;\n",
       "}\n",
       ".show-type {\n",
       "color: green;\n",
       "font-weight: bold;\n",
       "font-family: monospace;\n",
       "margin-left: 1em;\n",
       "}\n",
       ".mono {\n",
       "font-family: monospace;\n",
       "display: block;\n",
       "}\n",
       ".err-msg {\n",
       "color: red;\n",
       "font-style: italic;\n",
       "font-family: monospace;\n",
       "white-space: pre;\n",
       "display: block;\n",
       "}\n",
       "#unshowable {\n",
       "color: red;\n",
       "font-weight: bold;\n",
       "}\n",
       ".err-msg.in.collapse {\n",
       "padding-top: 0.7em;\n",
       "}\n",
       ".highlight-code {\n",
       "white-space: pre;\n",
       "font-family: monospace;\n",
       "}\n",
       ".suggestion-warning { \n",
       "font-weight: bold;\n",
       "color: rgb(200, 130, 0);\n",
       "}\n",
       ".suggestion-error { \n",
       "font-weight: bold;\n",
       "color: red;\n",
       "}\n",
       ".suggestion-name {\n",
       "font-weight: bold;\n",
       "}\n",
       "</style><span class='get-type'>(Counter 4 'a') :: Counter Char</span>"
      ],
      "text/plain": [
       "(Counter 4 'a') :: Counter Char"
      ]
     },
     "metadata": {},
     "output_type": "display_data"
    }
   ],
   "source": [
    ":t (Counter 4 'a')"
   ]
  },
  {
   "cell_type": "code",
   "execution_count": 39,
   "id": "cf3cdc65-06a0-4f9c-a114-958f7bcdf7f7",
   "metadata": {
    "tags": []
   },
   "outputs": [],
   "source": [
    "increment :: Counter a -> Counter a\n",
    "increment (Counter n x) = Counter (n + 1) x"
   ]
  },
  {
   "cell_type": "code",
   "execution_count": 53,
   "id": "7de2e655-82b6-4e07-8897-9685f1639cf1",
   "metadata": {
    "tags": []
   },
   "outputs": [],
   "source": [
    "instance Functor Counter where\n",
    "  fmap f (Counter n x) = Counter (n + 1) (f x)"
   ]
  },
  {
   "cell_type": "code",
   "execution_count": 56,
   "id": "9d1317eb-4625-496c-a582-2df73a5626bf",
   "metadata": {
    "tags": []
   },
   "outputs": [
    {
     "data": {
      "text/html": [
       "<style>/* Styles used for the Hoogle display in the pager */\n",
       ".hoogle-doc {\n",
       "display: block;\n",
       "padding-bottom: 1.3em;\n",
       "padding-left: 0.4em;\n",
       "}\n",
       ".hoogle-code {\n",
       "display: block;\n",
       "font-family: monospace;\n",
       "white-space: pre;\n",
       "}\n",
       ".hoogle-text {\n",
       "display: block;\n",
       "}\n",
       ".hoogle-name {\n",
       "color: green;\n",
       "font-weight: bold;\n",
       "}\n",
       ".hoogle-head {\n",
       "font-weight: bold;\n",
       "}\n",
       ".hoogle-sub {\n",
       "display: block;\n",
       "margin-left: 0.4em;\n",
       "}\n",
       ".hoogle-package {\n",
       "font-weight: bold;\n",
       "font-style: italic;\n",
       "}\n",
       ".hoogle-module {\n",
       "font-weight: bold;\n",
       "}\n",
       ".hoogle-class {\n",
       "font-weight: bold;\n",
       "}\n",
       ".get-type {\n",
       "color: green;\n",
       "font-weight: bold;\n",
       "font-family: monospace;\n",
       "display: block;\n",
       "white-space: pre-wrap;\n",
       "}\n",
       ".show-type {\n",
       "color: green;\n",
       "font-weight: bold;\n",
       "font-family: monospace;\n",
       "margin-left: 1em;\n",
       "}\n",
       ".mono {\n",
       "font-family: monospace;\n",
       "display: block;\n",
       "}\n",
       ".err-msg {\n",
       "color: red;\n",
       "font-style: italic;\n",
       "font-family: monospace;\n",
       "white-space: pre;\n",
       "display: block;\n",
       "}\n",
       "#unshowable {\n",
       "color: red;\n",
       "font-weight: bold;\n",
       "}\n",
       ".err-msg.in.collapse {\n",
       "padding-top: 0.7em;\n",
       "}\n",
       ".highlight-code {\n",
       "white-space: pre;\n",
       "font-family: monospace;\n",
       "}\n",
       ".suggestion-warning { \n",
       "font-weight: bold;\n",
       "color: rgb(200, 130, 0);\n",
       "}\n",
       ".suggestion-error { \n",
       "font-weight: bold;\n",
       "color: red;\n",
       "}\n",
       ".suggestion-name {\n",
       "font-weight: bold;\n",
       "}\n",
       "</style><div class=\"suggestion-name\" style=\"clear:both;\">Use <$></div><div class=\"suggestion-row\" style=\"float: left;\"><div class=\"suggestion-warning\">Found:</div><div class=\"highlight-code\" id=\"haskell\">fmap (not . even) $ Counter 7 3</div></div><div class=\"suggestion-row\" style=\"float: left;\"><div class=\"suggestion-warning\">Why Not:</div><div class=\"highlight-code\" id=\"haskell\">(not . even) <$> Counter 7 3</div></div><div class=\"suggestion-name\" style=\"clear:both;\">Use odd</div><div class=\"suggestion-row\" style=\"float: left;\"><div class=\"suggestion-warning\">Found:</div><div class=\"highlight-code\" id=\"haskell\">not . even</div></div><div class=\"suggestion-row\" style=\"float: left;\"><div class=\"suggestion-warning\">Why Not:</div><div class=\"highlight-code\" id=\"haskell\">odd</div></div>"
      ],
      "text/plain": [
       "Line 1: Use <$>\n",
       "Found:\n",
       "fmap (not . even) $ Counter 7 3\n",
       "Why not:\n",
       "(not . even) <$> Counter 7 3Line 1: Use odd\n",
       "Found:\n",
       "not . even\n",
       "Why not:\n",
       "odd"
      ]
     },
     "metadata": {},
     "output_type": "display_data"
    },
    {
     "data": {
      "text/plain": [
       "Counter 8 True"
      ]
     },
     "metadata": {},
     "output_type": "display_data"
    }
   ],
   "source": [
    "fmap (not . even) $ Counter 7 3"
   ]
  },
  {
   "cell_type": "markdown",
   "id": "68def945-9e76-4b82-9842-655f3b67641d",
   "metadata": {},
   "source": [
    "# Languages with dependent types"
   ]
  },
  {
   "cell_type": "markdown",
   "id": "38d26b07-3fe0-40e2-8524-bd537a31bdf6",
   "metadata": {},
   "source": [
    "- agda\n",
    "- idris\n",
    "- coq"
   ]
  },
  {
   "cell_type": "markdown",
   "id": "ae0ff24f-66a9-4711-8e7e-61894b4a1d8b",
   "metadata": {},
   "source": [
    "# Functor examples"
   ]
  },
  {
   "cell_type": "code",
   "execution_count": 59,
   "id": "0634e785-a200-4e01-9cda-6d91b7bbe3d0",
   "metadata": {
    "tags": []
   },
   "outputs": [
    {
     "data": {
      "text/plain": [
       "[2,3,4]"
      ]
     },
     "metadata": {},
     "output_type": "display_data"
    }
   ],
   "source": [
    "fmap (+1) [1,2,3]"
   ]
  },
  {
   "cell_type": "code",
   "execution_count": 60,
   "id": "69f7f02e-1a04-44e2-800f-d6130d2dd683",
   "metadata": {
    "tags": []
   },
   "outputs": [
    {
     "data": {
      "text/html": [
       "<style>/* Styles used for the Hoogle display in the pager */\n",
       ".hoogle-doc {\n",
       "display: block;\n",
       "padding-bottom: 1.3em;\n",
       "padding-left: 0.4em;\n",
       "}\n",
       ".hoogle-code {\n",
       "display: block;\n",
       "font-family: monospace;\n",
       "white-space: pre;\n",
       "}\n",
       ".hoogle-text {\n",
       "display: block;\n",
       "}\n",
       ".hoogle-name {\n",
       "color: green;\n",
       "font-weight: bold;\n",
       "}\n",
       ".hoogle-head {\n",
       "font-weight: bold;\n",
       "}\n",
       ".hoogle-sub {\n",
       "display: block;\n",
       "margin-left: 0.4em;\n",
       "}\n",
       ".hoogle-package {\n",
       "font-weight: bold;\n",
       "font-style: italic;\n",
       "}\n",
       ".hoogle-module {\n",
       "font-weight: bold;\n",
       "}\n",
       ".hoogle-class {\n",
       "font-weight: bold;\n",
       "}\n",
       ".get-type {\n",
       "color: green;\n",
       "font-weight: bold;\n",
       "font-family: monospace;\n",
       "display: block;\n",
       "white-space: pre-wrap;\n",
       "}\n",
       ".show-type {\n",
       "color: green;\n",
       "font-weight: bold;\n",
       "font-family: monospace;\n",
       "margin-left: 1em;\n",
       "}\n",
       ".mono {\n",
       "font-family: monospace;\n",
       "display: block;\n",
       "}\n",
       ".err-msg {\n",
       "color: red;\n",
       "font-style: italic;\n",
       "font-family: monospace;\n",
       "white-space: pre;\n",
       "display: block;\n",
       "}\n",
       "#unshowable {\n",
       "color: red;\n",
       "font-weight: bold;\n",
       "}\n",
       ".err-msg.in.collapse {\n",
       "padding-top: 0.7em;\n",
       "}\n",
       ".highlight-code {\n",
       "white-space: pre;\n",
       "font-family: monospace;\n",
       "}\n",
       ".suggestion-warning { \n",
       "font-weight: bold;\n",
       "color: rgb(200, 130, 0);\n",
       "}\n",
       ".suggestion-error { \n",
       "font-weight: bold;\n",
       "color: red;\n",
       "}\n",
       ".suggestion-name {\n",
       "font-weight: bold;\n",
       "}\n",
       "</style><div class=\"suggestion-name\" style=\"clear:both;\">Use <$></div><div class=\"suggestion-row\" style=\"float: left;\"><div class=\"suggestion-warning\">Found:</div><div class=\"highlight-code\" id=\"haskell\">fmap (+ 1) $ Just 3</div></div><div class=\"suggestion-row\" style=\"float: left;\"><div class=\"suggestion-warning\">Why Not:</div><div class=\"highlight-code\" id=\"haskell\">(+ 1) <$> Just 3</div></div>"
      ],
      "text/plain": [
       "Line 1: Use <$>\n",
       "Found:\n",
       "fmap (+ 1) $ Just 3\n",
       "Why not:\n",
       "(+ 1) <$> Just 3"
      ]
     },
     "metadata": {},
     "output_type": "display_data"
    },
    {
     "data": {
      "text/plain": [
       "Just 4"
      ]
     },
     "metadata": {},
     "output_type": "display_data"
    }
   ],
   "source": [
    "fmap (+1) $ Just 3"
   ]
  },
  {
   "cell_type": "markdown",
   "id": "e7ce727a-cdc4-49c9-a14f-fa36a2a37f1a",
   "metadata": {
    "tags": []
   },
   "source": [
    ":t (a -> b)\n",
    "\n",
    "(->) a b\n",
    "\n",
    "(->) a\n",
    "\n",
    "instance Functor ((->) a) where\n",
    "  fmap f (\\x -> y) = \\x -> f y"
   ]
  },
  {
   "cell_type": "code",
   "execution_count": 64,
   "id": "3ab4afaf-9dc5-4cc0-8b20-4b883b4dee07",
   "metadata": {
    "tags": []
   },
   "outputs": [
    {
     "data": {
      "text/html": [
       "<style>/* Styles used for the Hoogle display in the pager */\n",
       ".hoogle-doc {\n",
       "display: block;\n",
       "padding-bottom: 1.3em;\n",
       "padding-left: 0.4em;\n",
       "}\n",
       ".hoogle-code {\n",
       "display: block;\n",
       "font-family: monospace;\n",
       "white-space: pre;\n",
       "}\n",
       ".hoogle-text {\n",
       "display: block;\n",
       "}\n",
       ".hoogle-name {\n",
       "color: green;\n",
       "font-weight: bold;\n",
       "}\n",
       ".hoogle-head {\n",
       "font-weight: bold;\n",
       "}\n",
       ".hoogle-sub {\n",
       "display: block;\n",
       "margin-left: 0.4em;\n",
       "}\n",
       ".hoogle-package {\n",
       "font-weight: bold;\n",
       "font-style: italic;\n",
       "}\n",
       ".hoogle-module {\n",
       "font-weight: bold;\n",
       "}\n",
       ".hoogle-class {\n",
       "font-weight: bold;\n",
       "}\n",
       ".get-type {\n",
       "color: green;\n",
       "font-weight: bold;\n",
       "font-family: monospace;\n",
       "display: block;\n",
       "white-space: pre-wrap;\n",
       "}\n",
       ".show-type {\n",
       "color: green;\n",
       "font-weight: bold;\n",
       "font-family: monospace;\n",
       "margin-left: 1em;\n",
       "}\n",
       ".mono {\n",
       "font-family: monospace;\n",
       "display: block;\n",
       "}\n",
       ".err-msg {\n",
       "color: red;\n",
       "font-style: italic;\n",
       "font-family: monospace;\n",
       "white-space: pre;\n",
       "display: block;\n",
       "}\n",
       "#unshowable {\n",
       "color: red;\n",
       "font-weight: bold;\n",
       "}\n",
       ".err-msg.in.collapse {\n",
       "padding-top: 0.7em;\n",
       "}\n",
       ".highlight-code {\n",
       "white-space: pre;\n",
       "font-family: monospace;\n",
       "}\n",
       ".suggestion-warning { \n",
       "font-weight: bold;\n",
       "color: rgb(200, 130, 0);\n",
       "}\n",
       ".suggestion-error { \n",
       "font-weight: bold;\n",
       "color: red;\n",
       "}\n",
       ".suggestion-name {\n",
       "font-weight: bold;\n",
       "}\n",
       "</style><div class=\"suggestion-name\" style=\"clear:both;\">Avoid lambda using `infix`</div><div class=\"suggestion-row\" style=\"float: left;\"><div class=\"suggestion-warning\">Found:</div><div class=\"highlight-code\" id=\"haskell\">(\\ x -> x + 3)</div></div><div class=\"suggestion-row\" style=\"float: left;\"><div class=\"suggestion-warning\">Why Not:</div><div class=\"highlight-code\" id=\"haskell\">(+ 3)</div></div><div class=\"suggestion-name\" style=\"clear:both;\">Redundant bracket</div><div class=\"suggestion-row\" style=\"float: left;\"><div class=\"suggestion-warning\">Found:</div><div class=\"highlight-code\" id=\"haskell\">(fmap odd (\\ x -> x + 3)) 1</div></div><div class=\"suggestion-row\" style=\"float: left;\"><div class=\"suggestion-warning\">Why Not:</div><div class=\"highlight-code\" id=\"haskell\">fmap odd (\\ x -> x + 3) 1</div></div><div class=\"suggestion-name\" style=\"clear:both;\">Avoid lambda using `infix`</div><div class=\"suggestion-row\" style=\"float: left;\"><div class=\"suggestion-warning\">Found:</div><div class=\"highlight-code\" id=\"haskell\">(\\ x -> x + 3)</div></div><div class=\"suggestion-row\" style=\"float: left;\"><div class=\"suggestion-warning\">Why Not:</div><div class=\"highlight-code\" id=\"haskell\">(+ 3)</div></div>"
      ],
      "text/plain": [
       "Line 1: Avoid lambda using `infix`\n",
       "Found:\n",
       "(\\ x -> x + 3)\n",
       "Why not:\n",
       "(+ 3)Line 4: Redundant bracket\n",
       "Found:\n",
       "(fmap odd (\\ x -> x + 3)) 1\n",
       "Why not:\n",
       "fmap odd (\\ x -> x + 3) 1Line 4: Avoid lambda using `infix`\n",
       "Found:\n",
       "(\\ x -> x + 3)\n",
       "Why not:\n",
       "(+ 3)"
      ]
     },
     "metadata": {},
     "output_type": "display_data"
    },
    {
     "ename": "",
     "evalue": "",
     "output_type": "error",
     "traceback": [
      "<interactive>:1:1: error:\n    • No instance for (Show (Integer -> Bool)) arising from a use of ‘print’\n        (maybe you haven't applied a function to enough arguments?)\n    • In a stmt of an interactive GHCi command: print it"
     ]
    }
   ],
   "source": [
    "fmap odd (\\x -> x + 3)\n",
    "-- \\x -> odd (x + 3)\n",
    "\n",
    "(fmap odd (\\x -> x + 3)) 1\n",
    "-- (\\x -> odd (x + 3)) 1\n",
    "-- odd (1 + 3)\n",
    "-- odd 4"
   ]
  },
  {
   "cell_type": "code",
   "execution_count": null,
   "id": "b3ff37e9-2b47-4e47-84ce-62fe3d120349",
   "metadata": {},
   "outputs": [],
   "source": [
    "[[a]] -> [a]"
   ]
  }
 ],
 "metadata": {
  "kernelspec": {
   "display_name": "haskell-minimal kernel",
   "language": "haskell",
   "name": "haskell-minimal"
  },
  "language_info": {
   "codemirror_mode": "Haskell",
   "file_extension": ".hs",
   "mimetype": "text/x-haskell",
   "name": "haskell",
   "pygments_lexer": "Haskell",
   "version": "9.0.2"
  }
 },
 "nbformat": 4,
 "nbformat_minor": 5
}
