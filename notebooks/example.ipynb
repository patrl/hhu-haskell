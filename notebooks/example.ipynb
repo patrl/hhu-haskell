{
 "cells": [
  {
   "cell_type": "markdown",
   "id": "d93ac6eb-69a5-4f3a-9ce9-0e507a9f39ac",
   "metadata": {},
   "source": [
    "# Here is my title\n",
    "\n",
    "Here is an example of some haskell code"
   ]
  },
  {
   "cell_type": "code",
   "execution_count": 1,
   "id": "6f4e1f3c-d975-4a74-930b-956649b82563",
   "metadata": {
    "tags": []
   },
   "outputs": [
    {
     "data": {
      "text/plain": [
       "2"
      ]
     },
     "metadata": {},
     "output_type": "display_data"
    }
   ],
   "source": [
    "1 + 1"
   ]
  },
  {
   "cell_type": "code",
   "execution_count": null,
   "id": "a32b317f-cc7a-4f77-91f1-b09ad56e09ec",
   "metadata": {
    "tags": []
   },
   "outputs": [
    {
     "data": {
      "text/plain": [
       "[1,2,3]"
      ]
     },
     "metadata": {},
     "output_type": "display_data"
    }
   ],
   "source": [
    "[1,2] ++ [3]"
   ]
  },
  {
   "cell_type": "code",
   "execution_count": null,
   "id": "48fd2deb-0662-4b69-83da-3587a5942dd0",
   "metadata": {},
   "outputs": [],
   "source": []
  }
 ],
 "metadata": {
  "kernelspec": {
   "display_name": "haskell-minimal kernel",
   "language": "haskell",
   "name": "haskell-minimal"
  },
  "language_info": {
   "codemirror_mode": "Haskell",
   "file_extension": ".hs",
   "mimetype": "text/x-haskell",
   "name": "haskell",
   "pygments_lexer": "Haskell",
   "version": "9.0.2"
  }
 },
 "nbformat": 4,
 "nbformat_minor": 5
}
