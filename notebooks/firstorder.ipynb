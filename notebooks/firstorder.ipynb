{
 "cells": [
  {
   "cell_type": "markdown",
   "id": "166cbb3b-32d1-4b23-8c9c-6fec468f4178",
   "metadata": {},
   "source": [
    "# First-order logic (v1)"
   ]
  },
  {
   "cell_type": "markdown",
   "id": "b7593bf2-b090-4bdd-9519-1a1f0f5abb84",
   "metadata": {},
   "source": [
    "## Variables"
   ]
  },
  {
   "cell_type": "code",
   "execution_count": 1,
   "id": "033347a8-0e9d-4388-8e3a-a3f9bf66cdac",
   "metadata": {
    "tags": []
   },
   "outputs": [],
   "source": [
    "type Name = String\n",
    "newtype Var = Var Name deriving (Eq,Ord) -- Ord instance necessary for list to set\n",
    "\n",
    "instance Show Var where\n",
    "  show (Var v) = v"
   ]
  },
  {
   "cell_type": "markdown",
   "id": "04ae9e1a-0190-4025-ade7-56cc078fa157",
   "metadata": {},
   "source": [
    "## Formulas"
   ]
  },
  {
   "cell_type": "code",
   "execution_count": 2,
   "id": "9a7beaae-f632-418f-a7e1-f157469be70c",
   "metadata": {
    "tags": []
   },
   "outputs": [],
   "source": [
    "data Formula = Atomic String [Var]\n",
    "    | Neg Formula\n",
    "    | Formula `Impl` Formula\n",
    "    | Formula `Conj` Formula\n",
    "    | Formula `Disj` Formula\n",
    "    | Forall Var Formula\n",
    "    | Exists Var Formula\n",
    "    deriving Eq"
   ]
  },
  {
   "cell_type": "code",
   "execution_count": null,
   "id": "f075d9cb-a002-4997-a0f3-000ef7592e1e",
   "metadata": {},
   "outputs": [],
   "source": []
  },
  {
   "cell_type": "code",
   "execution_count": 3,
   "id": "1e5aa638-44dd-4df4-b6ef-c8aac23fdc39",
   "metadata": {
    "tags": []
   },
   "outputs": [],
   "source": [
    "at :: String -> String -> Formula\n",
    "at p v = Atomic p [Var v]\n",
    "\n",
    "forall :: String -> Formula -> Formula\n",
    "forall v = Forall (Var v)\n",
    "\n",
    "ex :: String -> Formula -> Formula\n",
    "ex v = Exists (Var v)"
   ]
  },
  {
   "cell_type": "markdown",
   "id": "37b30f08-9bb0-401d-a332-2b3736c5f8c4",
   "metadata": {},
   "source": [
    "### An example\n",
    "\n",
    "\"Every dog barks\"\n",
    "\n",
    "for all x(dog(x) -> barks(x))"
   ]
  },
  {
   "cell_type": "code",
   "execution_count": 4,
   "id": "efe66cf0-6abf-4dfd-9ed4-82d787080a8a",
   "metadata": {
    "tags": []
   },
   "outputs": [],
   "source": [
    "_allDogsBark = forall \"x\" $ at \"dog\" \"x\" `Impl` at \"bark\" \"x\""
   ]
  },
  {
   "cell_type": "markdown",
   "id": "0e7213d8-6a7c-45b4-af90-909510763a33",
   "metadata": {},
   "source": [
    "## Collecting free variables"
   ]
  },
  {
   "cell_type": "code",
   "execution_count": 5,
   "id": "5b4649f4-2fd1-482c-9a67-3f4c5b910e95",
   "metadata": {
    "tags": []
   },
   "outputs": [
    {
     "data": {
      "text/plain": [
       "fromList [1,2,3]"
      ]
     },
     "metadata": {},
     "output_type": "display_data"
    },
    {
     "data": {
      "text/plain": [
       "fromList [1,2,3,4]"
      ]
     },
     "metadata": {},
     "output_type": "display_data"
    },
    {
     "data": {
      "text/plain": [
       "fromList [1,2]"
      ]
     },
     "metadata": {},
     "output_type": "display_data"
    },
    {
     "data": {
      "text/plain": [
       "True"
      ]
     },
     "metadata": {},
     "output_type": "display_data"
    }
   ],
   "source": [
    "{-# LANGUAGE OverloadedLists #-}\n",
    "\n",
    "import qualified Data.Set as S\n",
    "\n",
    "aSet :: S.Set Int\n",
    "aSet = [1,2,1,3]\n",
    "\n",
    "aSet\n",
    "\n",
    "[1,2,3] `S.union` [1,2,4]\n",
    "\n",
    "[1,2,3] `S.intersection` [1,2,4]\n",
    "\n",
    "S.fromList [1,2] == S.fromList [2,1]"
   ]
  },
  {
   "cell_type": "code",
   "execution_count": 6,
   "id": "68ac42b6-bb04-4e42-8170-52422956db5d",
   "metadata": {
    "tags": []
   },
   "outputs": [],
   "source": [
    "import qualified Data.Set as S\n",
    "import Data.Set (union)\n",
    "\n",
    "freeVars :: Formula -> S.Set Var\n",
    "freeVars (Atomic p vs) = S.fromList vs\n",
    "freeVars (Neg p) = freeVars p\n",
    "freeVars (p `Conj` q) = freeVars p `union` freeVars q\n",
    "freeVars (p `Disj` q) = freeVars p `union` freeVars q\n",
    "freeVars (p `Impl` q) = freeVars p `union` freeVars q\n",
    "freeVars (Forall v p) = S.delete v (freeVars p)"
   ]
  },
  {
   "cell_type": "markdown",
   "id": "45a98e40-6acd-42c9-8345-31d8c910d5c7",
   "metadata": {},
   "source": [
    "## Recursive show"
   ]
  },
  {
   "cell_type": "code",
   "execution_count": 7,
   "id": "a134ef3b-3b45-4af7-a182-79ab445ef19d",
   "metadata": {
    "tags": []
   },
   "outputs": [],
   "source": [
    "showVList :: [Var] -> String\n",
    "showVList vs = \"(\" ++ showVs vs ++ \")\" where\n",
    "    showVs [] = \"\"\n",
    "    showVs [v] = show v ++ showVs []\n",
    "    showVs (v:vs) = show v ++ \",\" ++ showVs vs"
   ]
  },
  {
   "cell_type": "code",
   "execution_count": 8,
   "id": "09ee529e-298d-4fb0-9637-c52356803b5d",
   "metadata": {
    "tags": []
   },
   "outputs": [
    {
     "data": {
      "text/plain": [
       "\"()\""
      ]
     },
     "metadata": {},
     "output_type": "display_data"
    }
   ],
   "source": [
    "showVList []"
   ]
  },
  {
   "cell_type": "code",
   "execution_count": 9,
   "id": "ae739870-12b7-4d6a-8264-f26edbfa8e0a",
   "metadata": {
    "tags": []
   },
   "outputs": [
    {
     "data": {
      "text/plain": [
       "(x,y,z)"
      ]
     },
     "metadata": {},
     "output_type": "display_data"
    }
   ],
   "source": [
    "putStrLn $ showVList [Var \"x\", Var \"y\", Var \"z\"]"
   ]
  },
  {
   "cell_type": "code",
   "execution_count": 10,
   "id": "37f32292-8695-4d48-a02e-f6ec39275d7c",
   "metadata": {
    "tags": []
   },
   "outputs": [],
   "source": [
    "instance Show Formula where\n",
    "  show (Atomic p vs) = p ++ showVList vs\n",
    "  show (p `Impl` q) = \"(\" ++ show p ++ \" -> \" ++ show q ++ \")\"\n",
    "  show (p `Conj` q) = \"(\" ++ show p ++ \" && \" ++ show q ++ \")\"\n",
    "  show (p `Disj` q) = \"(\" ++ show p ++ \" || \" ++ show q ++ \")\"\n",
    "  show (Forall v p) = \"A\" ++ show v ++ show p\n",
    "  show (Exists v p) = \"E\" ++ show v ++ show p"
   ]
  },
  {
   "cell_type": "code",
   "execution_count": 11,
   "id": "3244ccc7-1de7-493c-a89e-36b6f15351f7",
   "metadata": {
    "tags": []
   },
   "outputs": [
    {
     "data": {
      "text/plain": [
       "Ax(dog(x) -> bark(x))"
      ]
     },
     "metadata": {},
     "output_type": "display_data"
    }
   ],
   "source": [
    "_allDogsBark"
   ]
  },
  {
   "cell_type": "code",
   "execution_count": 12,
   "id": "2c4d9d43-85cf-4aa8-a0f5-dd607d55d190",
   "metadata": {
    "tags": []
   },
   "outputs": [
    {
     "data": {
      "text/plain": [
       "fromList []"
      ]
     },
     "metadata": {},
     "output_type": "display_data"
    }
   ],
   "source": [
    "freeVars _allDogsBark"
   ]
  },
  {
   "cell_type": "code",
   "execution_count": 13,
   "id": "ee332748-edc4-4fbc-81d2-2618e690c742",
   "metadata": {
    "tags": []
   },
   "outputs": [],
   "source": [
    "_freeTest = Forall (Var \"x\") $ Atomic \"dog\" [Var \"x\"] `Impl` Atomic \"bark\" [Var \"z\"] -- Ax(dog(x) -> bark(z))"
   ]
  },
  {
   "cell_type": "code",
   "execution_count": 14,
   "id": "4ff26133-c950-49b4-b245-f52833cbf4b6",
   "metadata": {
    "tags": []
   },
   "outputs": [
    {
     "data": {
      "text/plain": [
       "fromList [z]"
      ]
     },
     "metadata": {},
     "output_type": "display_data"
    }
   ],
   "source": [
    "freeVars _freeTest"
   ]
  },
  {
   "cell_type": "code",
   "execution_count": 15,
   "id": "538b948b-4cb1-47cb-9b6d-fd366916bdfa",
   "metadata": {
    "tags": []
   },
   "outputs": [],
   "source": [
    "isClosed :: Formula -> Bool\n",
    "isClosed p = S.null (freeVars p)"
   ]
  },
  {
   "cell_type": "code",
   "execution_count": 16,
   "id": "ba707785-76b5-4b44-8273-d98f10e9c2ce",
   "metadata": {
    "tags": []
   },
   "outputs": [
    {
     "data": {
      "text/plain": [
       "True"
      ]
     },
     "metadata": {},
     "output_type": "display_data"
    }
   ],
   "source": [
    "isClosed _allDogsBark"
   ]
  },
  {
   "cell_type": "code",
   "execution_count": 17,
   "id": "53d91276-bf37-4769-87e0-61b692a1f8aa",
   "metadata": {
    "tags": []
   },
   "outputs": [
    {
     "data": {
      "text/plain": [
       "False"
      ]
     },
     "metadata": {},
     "output_type": "display_data"
    }
   ],
   "source": [
    "isClosed _freeTest"
   ]
  },
  {
   "cell_type": "markdown",
   "id": "3808b6f4-5ab3-47df-b4ad-2c780939c044",
   "metadata": {},
   "source": [
    "## Semantics\n",
    "\n",
    "Let's use integers as our individuals, and define some predicates and relations as functions."
   ]
  },
  {
   "cell_type": "markdown",
   "id": "75a2301f-cfd8-4e51-8961-187719afd50c",
   "metadata": {},
   "source": [
    "## Model"
   ]
  },
  {
   "cell_type": "markdown",
   "id": "5aa33acb-7eab-4b9b-bd1c-af7ac0d70078",
   "metadata": {},
   "source": [
    "Watch out for undefinedness!"
   ]
  },
  {
   "cell_type": "code",
   "execution_count": 18,
   "id": "05ed0b1e-33d2-47be-9b74-14fe399fa95e",
   "metadata": {
    "tags": []
   },
   "outputs": [],
   "source": [
    "newtype Entity = E Int deriving (Eq,Show,Ord)\n",
    "\n",
    "domE :: S.Set Entity\n",
    "domE = S.fromList $ E <$> [1..10]"
   ]
  },
  {
   "cell_type": "markdown",
   "id": "8b38b06a-b83a-4dc4-84a2-cf0e4be0b7d0",
   "metadata": {},
   "source": [
    "## Assignment\n",
    "\n",
    "An assignment in predicate logic is a mapping from variables to individuals."
   ]
  },
  {
   "cell_type": "code",
   "execution_count": 19,
   "id": "7647ab0b-9c55-43ef-9922-94d5833e7dbe",
   "metadata": {
    "tags": []
   },
   "outputs": [],
   "source": [
    "import qualified Data.Map as M\n",
    "\n",
    "type Assignment = M.Map Var Entity"
   ]
  },
  {
   "cell_type": "markdown",
   "id": "b748e714-15e7-443a-9ad2-925dce9591e7",
   "metadata": {},
   "source": [
    "To give an interpretation, let's first define a function to gather *all* variables."
   ]
  },
  {
   "cell_type": "code",
   "execution_count": 20,
   "id": "9a6abb16-6822-4239-977e-2db8c6695306",
   "metadata": {
    "tags": []
   },
   "outputs": [],
   "source": [
    "allVars :: Formula -> S.Set Var\n",
    "allVars s = case s of\n",
    "  (Atomic p vs) -> S.fromList vs\n",
    "  (Neg p) -> allVars p\n",
    "  (p `Impl` q) -> allVars p `S.union` allVars q\n",
    "  (p `Conj` q) -> allVars p `S.union` allVars q\n",
    "  (p `Disj` q) -> allVars p `S.union` allVars q\n",
    "  (Forall v p) -> v `S.insert` allVars p\n",
    "  (Exists v p) -> v `S.insert` allVars p"
   ]
  },
  {
   "cell_type": "code",
   "execution_count": 21,
   "id": "8fa65bd2-5721-4878-bba4-1188361d6a57",
   "metadata": {
    "tags": []
   },
   "outputs": [
    {
     "data": {
      "text/plain": [
       "Ax(dog(x) -> bark(x))"
      ]
     },
     "metadata": {},
     "output_type": "display_data"
    },
    {
     "data": {
      "text/plain": [
       "fromList [x]"
      ]
     },
     "metadata": {},
     "output_type": "display_data"
    }
   ],
   "source": [
    "_allDogsBark\n",
    "allVars _allDogsBark"
   ]
  },
  {
   "cell_type": "markdown",
   "id": "fff1fc03-53d9-443d-a806-0010ac9a93c9",
   "metadata": {},
   "source": [
    "Given a set of variables, and a domain of entities, we can generate all possible assignments as follows: "
   ]
  },
  {
   "cell_type": "code",
   "execution_count": 22,
   "id": "3d566d68-74b2-48ff-ac2e-e3bf0f0647b8",
   "metadata": {
    "tags": []
   },
   "outputs": [],
   "source": [
    "import Control.Monad (replicateM)\n",
    "\n",
    "mkAssignments :: [Var] -> [Entity] -> S.Set Assignment\n",
    "mkAssignments vs d = S.fromList [M.fromList $ zip vs es | es <- replicateM (length vs) d]"
   ]
  },
  {
   "cell_type": "code",
   "execution_count": 23,
   "id": "b913a085-2a65-43a9-8ce1-fe0f83481147",
   "metadata": {
    "tags": []
   },
   "outputs": [
    {
     "data": {
      "text/plain": [
       "fromList [fromList [(x,E 1),(y,E 1),(z,E 1)],fromList [(x,E 1),(y,E 1),(z,E 2)],fromList [(x,E 1),(y,E 2),(z,E 1)],fromList [(x,E 1),(y,E 2),(z,E 2)],fromList [(x,E 2),(y,E 1),(z,E 1)],fromList [(x,E 2),(y,E 1),(z,E 2)],fromList [(x,E 2),(y,E 2),(z,E 1)],fromList [(x,E 2),(y,E 2),(z,E 2)]]"
      ]
     },
     "metadata": {},
     "output_type": "display_data"
    }
   ],
   "source": [
    "mkAssignments (Var <$> [\"x\",\"y\",\"z\"]) (E <$> [1,2])"
   ]
  },
  {
   "cell_type": "markdown",
   "id": "96e73fdd-7f7d-4362-bde0-5d76fe3a6cba",
   "metadata": {},
   "source": [
    "We need an interpretation function to map predicate symbols to boolean functions. We'll assume that anything not provided by the lexicon is tautological."
   ]
  },
  {
   "cell_type": "code",
   "execution_count": 24,
   "id": "09e6cd36-d0f2-4988-a951-7d5ad717f079",
   "metadata": {
    "tags": []
   },
   "outputs": [],
   "source": [
    "oddP :: [Entity] -> Bool\n",
    "oddP [E n] = odd n\n",
    "oddP _ = undefined\n",
    "\n",
    "evenP :: [Entity] -> Bool\n",
    "evenP [E n] = even n\n",
    "evenP _ = undefined\n",
    "\n",
    "isEqualR :: [Entity] -> Bool\n",
    "isEqualR [E n, E n'] = n == n'\n",
    "isEqualR _ = undefined\n",
    "\n",
    "evenlyDivisibleR :: [Entity] -> Bool\n",
    "evenlyDivisibleR [E n,E n'] = (n `rem` n') == 0\n",
    "evenlyDivisibleR _ = undefined\n"
   ]
  },
  {
   "cell_type": "code",
   "execution_count": 25,
   "id": "4e7bb8f9-9116-4185-950a-436683f072b2",
   "metadata": {
    "tags": []
   },
   "outputs": [],
   "source": [
    "type I = String -> [Entity] -> Bool\n",
    "\n",
    "lexicon :: String -> [Entity] -> Bool\n",
    "lexicon \"odd\" = oddP\n",
    "lexicon \"even\" = evenP\n",
    "lexicon \"evenlyDivisible\" = evenlyDivisibleR\n",
    "lexicon \"isEqual\" = isEqualR\n",
    "lexicon _ = const True"
   ]
  },
  {
   "cell_type": "markdown",
   "id": "4b21b5dc-201e-480a-a78f-3d4baaa80343",
   "metadata": {},
   "source": [
    "Now we can write a function to interpret formulas of predicate logic. We can re-use our lookup function."
   ]
  },
  {
   "cell_type": "code",
   "execution_count": 38,
   "id": "88b4bae4-545b-493d-af13-9dc3b941d7cb",
   "metadata": {
    "tags": []
   },
   "outputs": [],
   "source": [
    "import qualified Data.Map as M\n",
    "\n",
    "eval :: I -> Dom -> Assignment -> Formula -> Bool\n",
    "eval i d g (Atomic p vs) = i p [ g M.! v | v <- vs]\n",
    "eval i d g (Neg p) = not $ eval i d g p\n",
    "eval i d g (p `Conj` q) = eval i d g p && eval i d g q\n",
    "eval i d g (p `Disj` q) = eval i d g p || eval i d g q\n",
    "eval i d g (p `Impl` q) = not (eval i d g p) || eval i d g q\n",
    "eval i d g (Exists v p) = undefined\n",
    "eval i d g (Forall v p) = undefined"
   ]
  },
  {
   "cell_type": "code",
   "execution_count": 39,
   "id": "a1394c24-a8f1-46cd-b80a-19b6999c710c",
   "metadata": {
    "tags": []
   },
   "outputs": [
    {
     "data": {
      "text/plain": [
       "True"
      ]
     },
     "metadata": {},
     "output_type": "display_data"
    },
    {
     "data": {
      "text/plain": [
       "False"
      ]
     },
     "metadata": {},
     "output_type": "display_data"
    }
   ],
   "source": [
    "_xIsEven = Atomic \"even\" [Var \"x\"]\n",
    "eval lexicon domE [(Var \"x\", E 2)] _xIsEven\n",
    "eval lexicon domE [(Var \"x\", E 3)] _xIsEven"
   ]
  },
  {
   "cell_type": "markdown",
   "id": "7bd2e79f-cb26-481a-a39e-a698244a0e48",
   "metadata": {},
   "source": [
    "In order to define existential/universal quantification, we need a notion of *assignment modification*."
   ]
  },
  {
   "cell_type": "code",
   "execution_count": 40,
   "id": "e4363b9b-f962-4f51-9451-3d58d1949444",
   "metadata": {
    "tags": []
   },
   "outputs": [],
   "source": [
    "modify :: Assignment -> Var -> Entity -> Assignment\n",
    "modify g v x = M.insert v x g"
   ]
  },
  {
   "cell_type": "code",
   "execution_count": 41,
   "id": "67964c74-ca84-4b49-a032-4acbd85b9940",
   "metadata": {
    "tags": []
   },
   "outputs": [
    {
     "data": {
      "text/plain": [
       "fromList [(x,E 1),(y,E 1)]"
      ]
     },
     "metadata": {},
     "output_type": "display_data"
    }
   ],
   "source": [
    "modify [(Var \"x\", E 1), (Var \"y\", E 2)] (Var \"y\") (E 1)"
   ]
  },
  {
   "cell_type": "markdown",
   "id": "ddfe92d9-0ebf-4235-b7a0-33d75159eba0",
   "metadata": {},
   "source": [
    "We'll also define generalized disjunction and conjunction recursively. Note that `True` is the identity element for conjunction, and `False` is the identity element for disjunction."
   ]
  },
  {
   "cell_type": "code",
   "execution_count": 42,
   "id": "5089b1c9-9150-4eb8-bad7-99eb303ff730",
   "metadata": {
    "tags": []
   },
   "outputs": [
    {
     "data": {
      "text/html": [
       "<style>/* Styles used for the Hoogle display in the pager */\n",
       ".hoogle-doc {\n",
       "display: block;\n",
       "padding-bottom: 1.3em;\n",
       "padding-left: 0.4em;\n",
       "}\n",
       ".hoogle-code {\n",
       "display: block;\n",
       "font-family: monospace;\n",
       "white-space: pre;\n",
       "}\n",
       ".hoogle-text {\n",
       "display: block;\n",
       "}\n",
       ".hoogle-name {\n",
       "color: green;\n",
       "font-weight: bold;\n",
       "}\n",
       ".hoogle-head {\n",
       "font-weight: bold;\n",
       "}\n",
       ".hoogle-sub {\n",
       "display: block;\n",
       "margin-left: 0.4em;\n",
       "}\n",
       ".hoogle-package {\n",
       "font-weight: bold;\n",
       "font-style: italic;\n",
       "}\n",
       ".hoogle-module {\n",
       "font-weight: bold;\n",
       "}\n",
       ".hoogle-class {\n",
       "font-weight: bold;\n",
       "}\n",
       ".get-type {\n",
       "color: green;\n",
       "font-weight: bold;\n",
       "font-family: monospace;\n",
       "display: block;\n",
       "white-space: pre-wrap;\n",
       "}\n",
       ".show-type {\n",
       "color: green;\n",
       "font-weight: bold;\n",
       "font-family: monospace;\n",
       "margin-left: 1em;\n",
       "}\n",
       ".mono {\n",
       "font-family: monospace;\n",
       "display: block;\n",
       "}\n",
       ".err-msg {\n",
       "color: red;\n",
       "font-style: italic;\n",
       "font-family: monospace;\n",
       "white-space: pre;\n",
       "display: block;\n",
       "}\n",
       "#unshowable {\n",
       "color: red;\n",
       "font-weight: bold;\n",
       "}\n",
       ".err-msg.in.collapse {\n",
       "padding-top: 0.7em;\n",
       "}\n",
       ".highlight-code {\n",
       "white-space: pre;\n",
       "font-family: monospace;\n",
       "}\n",
       ".suggestion-warning { \n",
       "font-weight: bold;\n",
       "color: rgb(200, 130, 0);\n",
       "}\n",
       ".suggestion-error { \n",
       "font-weight: bold;\n",
       "color: red;\n",
       "}\n",
       ".suggestion-name {\n",
       "font-weight: bold;\n",
       "}\n",
       "</style><div class=\"suggestion-name\" style=\"clear:both;\">Use foldr</div><div class=\"suggestion-row\" style=\"float: left;\"><div class=\"suggestion-warning\">Found:</div><div class=\"highlight-code\" id=\"haskell\">conjoin [] = True\n",
       "conjoin (t : ts) = t && conjoin ts</div></div><div class=\"suggestion-row\" style=\"float: left;\"><div class=\"suggestion-warning\">Why Not:</div><div class=\"highlight-code\" id=\"haskell\">conjoin ts = foldr (&&) True ts</div></div><div class=\"suggestion-name\" style=\"clear:both;\">Use foldr</div><div class=\"suggestion-row\" style=\"float: left;\"><div class=\"suggestion-warning\">Found:</div><div class=\"highlight-code\" id=\"haskell\">disjoin [] = False\n",
       "disjoin (t : ts) = t || disjoin ts</div></div><div class=\"suggestion-row\" style=\"float: left;\"><div class=\"suggestion-warning\">Why Not:</div><div class=\"highlight-code\" id=\"haskell\">disjoin ts = foldr (||) False ts</div></div>"
      ],
      "text/plain": [
       "Line 2: Use foldr\n",
       "Found:\n",
       "conjoin [] = True\n",
       "conjoin (t : ts) = t && conjoin ts\n",
       "Why not:\n",
       "conjoin ts = foldr (&&) True tsLine 6: Use foldr\n",
       "Found:\n",
       "disjoin [] = False\n",
       "disjoin (t : ts) = t || disjoin ts\n",
       "Why not:\n",
       "disjoin ts = foldr (||) False ts"
      ]
     },
     "metadata": {},
     "output_type": "display_data"
    },
    {
     "data": {
      "text/plain": [
       "False"
      ]
     },
     "metadata": {},
     "output_type": "display_data"
    },
    {
     "data": {
      "text/plain": [
       "True"
      ]
     },
     "metadata": {},
     "output_type": "display_data"
    }
   ],
   "source": [
    "conjoin :: [Bool] -> Bool\n",
    "conjoin [] = True\n",
    "conjoin (t:ts) = t && conjoin ts\n",
    "\n",
    "disjoin :: [Bool] -> Bool\n",
    "disjoin [] = False\n",
    "disjoin (t:ts) = t || disjoin ts\n",
    "\n",
    "conjoin [True,False,True]\n",
    "disjoin [True,False,True]"
   ]
  },
  {
   "cell_type": "code",
   "execution_count": 46,
   "id": "7d75481c-eff1-44e1-b835-2f2610f0532b",
   "metadata": {
    "tags": []
   },
   "outputs": [],
   "source": [
    "eval :: I -> Dom -> Assignment -> Formula -> Bool\n",
    "eval i d g (Atomic p vs) = i p [ g M.! v | v <- vs]\n",
    "eval i d g (Neg p) = not $ eval i d g p\n",
    "eval i d g (p `Conj` q) = eval i d g p && eval i d g q\n",
    "eval i d g (p `Disj` q) = eval i d g p || eval i d g q\n",
    "eval i d g (p `Impl` q) = not (eval i d g p) || eval i d g q\n",
    "eval i d g (Exists v p) = disjoin [ eval i d (modify g v x) p | x <- S.toList d]\n",
    "eval i d g (Forall v p) = conjoin [eval i d (modify g v x) p | x <- S.toList d]"
   ]
  },
  {
   "cell_type": "markdown",
   "id": "5ea05466-77f1-4df2-bd7e-da626e3d45c4",
   "metadata": {},
   "source": [
    "y is evenly divisible by some even number."
   ]
  },
  {
   "cell_type": "code",
   "execution_count": 47,
   "id": "44922f00-e0cf-44b5-b209-b7077c411ed9",
   "metadata": {
    "tags": []
   },
   "outputs": [],
   "source": [
    "_everythingEven = Forall (Var \"x\") $ Atomic \"even\" [Var \"x\"]\n",
    "_xIsEven = Atomic \"even\" [Var \"x\"]"
   ]
  },
  {
   "cell_type": "code",
   "execution_count": 53,
   "id": "10f014a2-4b21-426d-96c5-25a42c304c01",
   "metadata": {
    "tags": []
   },
   "outputs": [],
   "source": [
    "trueSet :: I -> Dom -> Formula -> [Assignment]\n",
    "trueSet i d p = [g | g <- S.toList (mkAssignments (S.toList $ allVars p) (S.toList d)), eval i d g p]"
   ]
  },
  {
   "cell_type": "code",
   "execution_count": 54,
   "id": "d1a70836-e2c8-491f-8c86-6693261acffd",
   "metadata": {
    "tags": []
   },
   "outputs": [
    {
     "data": {
      "text/plain": [
       "[]"
      ]
     },
     "metadata": {},
     "output_type": "display_data"
    }
   ],
   "source": [
    "trueSet lexicon domE _everythingEven"
   ]
  },
  {
   "cell_type": "code",
   "execution_count": 55,
   "id": "82628ddc-2281-412a-bc30-5cceedba4c13",
   "metadata": {
    "tags": []
   },
   "outputs": [
    {
     "data": {
      "text/plain": [
       "[fromList [(x,E 2)],fromList [(x,E 4)],fromList [(x,E 6)],fromList [(x,E 8)],fromList [(x,E 10)]]"
      ]
     },
     "metadata": {},
     "output_type": "display_data"
    }
   ],
   "source": [
    "trueSet lexicon domE _xIsEven"
   ]
  },
  {
   "cell_type": "code",
   "execution_count": 56,
   "id": "0b739746-231e-43a2-ad96-a0c062f8bfa1",
   "metadata": {
    "tags": []
   },
   "outputs": [],
   "source": [
    "_xEvenNotDiv = Atomic \"even\" [Var \"x\"] `Conj` Neg (Atomic \"evenlyDivisible\" [Var \"x\", Var \"y\"])"
   ]
  },
  {
   "cell_type": "code",
   "execution_count": 57,
   "id": "f9f58571-d913-41af-a0d7-5354bf399df4",
   "metadata": {
    "tags": []
   },
   "outputs": [
    {
     "data": {
      "text/plain": [
       "[fromList [(x,E 2),(y,E 3)],fromList [(x,E 2),(y,E 4)],fromList [(x,E 2),(y,E 5)],fromList [(x,E 2),(y,E 6)],fromList [(x,E 2),(y,E 7)],fromList [(x,E 2),(y,E 8)],fromList [(x,E 2),(y,E 9)],fromList [(x,E 2),(y,E 10)],fromList [(x,E 4),(y,E 3)],fromList [(x,E 4),(y,E 5)],fromList [(x,E 4),(y,E 6)],fromList [(x,E 4),(y,E 7)],fromList [(x,E 4),(y,E 8)],fromList [(x,E 4),(y,E 9)],fromList [(x,E 4),(y,E 10)],fromList [(x,E 6),(y,E 4)],fromList [(x,E 6),(y,E 5)],fromList [(x,E 6),(y,E 7)],fromList [(x,E 6),(y,E 8)],fromList [(x,E 6),(y,E 9)],fromList [(x,E 6),(y,E 10)],fromList [(x,E 8),(y,E 3)],fromList [(x,E 8),(y,E 5)],fromList [(x,E 8),(y,E 6)],fromList [(x,E 8),(y,E 7)],fromList [(x,E 8),(y,E 9)],fromList [(x,E 8),(y,E 10)],fromList [(x,E 10),(y,E 3)],fromList [(x,E 10),(y,E 4)],fromList [(x,E 10),(y,E 6)],fromList [(x,E 10),(y,E 7)],fromList [(x,E 10),(y,E 8)],fromList [(x,E 10),(y,E 9)]]"
      ]
     },
     "metadata": {},
     "output_type": "display_data"
    }
   ],
   "source": [
    "trueSet lexicon domE _xEvenNotDiv"
   ]
  },
  {
   "cell_type": "code",
   "execution_count": 58,
   "id": "f0d1a4d9-d781-4566-9469-e61e444425a1",
   "metadata": {
    "tags": []
   },
   "outputs": [],
   "source": [
    "_somethingOdd = Exists (Var \"x\") $ Atomic \"odd\" [Var \"x\"]"
   ]
  },
  {
   "cell_type": "code",
   "execution_count": 59,
   "id": "23db189c-b9cd-4a77-aeed-f403684a0d4b",
   "metadata": {
    "tags": []
   },
   "outputs": [
    {
     "data": {
      "text/plain": [
       "[fromList [(x,E 1)],fromList [(x,E 2)],fromList [(x,E 3)],fromList [(x,E 4)],fromList [(x,E 5)],fromList [(x,E 6)],fromList [(x,E 7)],fromList [(x,E 8)],fromList [(x,E 9)],fromList [(x,E 10)]]"
      ]
     },
     "metadata": {},
     "output_type": "display_data"
    }
   ],
   "source": [
    "trueSet lexicon domE _somethingOdd"
   ]
  },
  {
   "cell_type": "markdown",
   "id": "13085d91-517e-4756-b66c-d3de97dbcece",
   "metadata": {},
   "source": [
    "# Higher Order Abstract Syntax"
   ]
  },
  {
   "cell_type": "code",
   "execution_count": null,
   "id": "16374e7b-ec29-4dd3-b473-a29f0a1d45d2",
   "metadata": {
    "tags": []
   },
   "outputs": [],
   "source": [
    "data Formula = Atomic String [Var]\n",
    "    | Neg Formula\n",
    "    | Formula `Impl` Formula\n",
    "    | Formula `Conj` Formula\n",
    "    | Formula `Disj` Formula\n",
    "    | Forall (Var -> Formula)\n",
    "    | Exists (Var -> Formula)"
   ]
  },
  {
   "cell_type": "markdown",
   "id": "7e833f1d-782b-423f-a265-1bdd2a65cafb",
   "metadata": {},
   "source": [
    "## TODO redo interpretation using this new schema"
   ]
  },
  {
   "cell_type": "code",
   "execution_count": null,
   "id": "b0272d78-1a30-40d3-96c6-e22f19b3f36b",
   "metadata": {},
   "outputs": [],
   "source": []
  }
 ],
 "metadata": {
  "kernelspec": {
   "display_name": "haskell-minimal kernel",
   "language": "haskell",
   "name": "haskell-minimal"
  },
  "language_info": {
   "codemirror_mode": "Haskell",
   "file_extension": ".hs",
   "mimetype": "text/x-haskell",
   "name": "haskell",
   "pygments_lexer": "Haskell",
   "version": "9.0.2"
  }
 },
 "nbformat": 4,
 "nbformat_minor": 5
}
