{
 "cells": [
  {
   "cell_type": "markdown",
   "id": "953335d7-675e-4b39-8bf9-7dfe6d0015d6",
   "metadata": {},
   "source": [
    "# Propositional logic"
   ]
  },
  {
   "cell_type": "code",
   "execution_count": 1,
   "id": "250da101-1244-45ba-abaf-497f5162b491",
   "metadata": {
    "tags": []
   },
   "outputs": [],
   "source": [
    "data PropL = PVar String | PNot PropL | PropL `PAnd` PropL | PropL `POr` PropL deriving Eq"
   ]
  },
  {
   "cell_type": "code",
   "execution_count": 2,
   "id": "470db367-9368-4db5-b5cd-8d400d0c69fe",
   "metadata": {
    "tags": []
   },
   "outputs": [],
   "source": [
    "instance Show PropL where\n",
    "    show (PVar s) = s\n",
    "    show (PNot p) = \"~\" ++ show p\n",
    "    show (p `PAnd` q) = \"(\" ++ show p ++ \" & \" ++ show q ++ \")\"\n",
    "    show (p `POr` q) = \"(\" ++ show p ++ \" | \" ++ show q ++ \")\""
   ]
  },
  {
   "cell_type": "code",
   "execution_count": 3,
   "id": "17484bf1-431f-41e0-a5ad-1a3291b7b354",
   "metadata": {
    "tags": []
   },
   "outputs": [],
   "source": [
    "form1 = PVar \"p1\" `PAnd` PNot (PVar \"p1\" `POr` PVar \"p3\")"
   ]
  },
  {
   "cell_type": "code",
   "execution_count": 4,
   "id": "99f95c8c-4f6f-4f9b-8034-5c19c96fc000",
   "metadata": {
    "tags": []
   },
   "outputs": [
    {
     "data": {
      "text/plain": [
       "\"(p1 & ~(p1 | p3))\""
      ]
     },
     "metadata": {},
     "output_type": "display_data"
    }
   ],
   "source": [
    "show form1"
   ]
  },
  {
   "cell_type": "code",
   "execution_count": 5,
   "id": "8624d5bf-47ad-47b3-9ce3-77feb95ab69c",
   "metadata": {
    "tags": []
   },
   "outputs": [],
   "source": [
    "form2 = (PVar \"p3\" `PAnd` PVar \"p3\") `POr` PNot (PNot (PVar \"p1\") `POr` PVar \"p3\")"
   ]
  },
  {
   "cell_type": "code",
   "execution_count": 6,
   "id": "2b20f31a-b8c8-48ab-8588-a5261508f82c",
   "metadata": {
    "tags": []
   },
   "outputs": [
    {
     "data": {
      "text/plain": [
       "((p3 & p3) | ~(~p1 | p3))"
      ]
     },
     "metadata": {},
     "output_type": "display_data"
    }
   ],
   "source": [
    "form2"
   ]
  },
  {
   "cell_type": "markdown",
   "id": "c9a01518-0624-4235-ba42-1af87db6b374",
   "metadata": {},
   "source": [
    "## Number of operators"
   ]
  },
  {
   "cell_type": "code",
   "execution_count": 7,
   "id": "fbe58694-4906-4f9b-ba6a-617d5e72def8",
   "metadata": {
    "tags": []
   },
   "outputs": [],
   "source": [
    "opsNr :: PropL -> Int\n",
    "opsNr (PVar _) = 0\n",
    "opsNr (PNot p) = 1 + opsNr p\n",
    "opsNr (PAnd p q) = 1 + opsNr p + opsNr q\n",
    "opsNr (POr p q) = 1 + opsNr p + opsNr q"
   ]
  },
  {
   "cell_type": "code",
   "execution_count": 8,
   "id": "e226da6e-8afd-4994-8ed9-bff44376f72f",
   "metadata": {
    "tags": []
   },
   "outputs": [
    {
     "data": {
      "text/plain": [
       "3"
      ]
     },
     "metadata": {},
     "output_type": "display_data"
    }
   ],
   "source": [
    "opsNr form1"
   ]
  },
  {
   "cell_type": "markdown",
   "id": "44cdb534-f543-4082-a52d-d326a1c7cc36",
   "metadata": {},
   "source": [
    "```\n",
    "opsNr (PVar \"p1\" `PAnd` PNot (PVar \"p1\" `POr` PVar \"p3\"))\n",
    "= 1 + opsNr (PVar \"p1) + opsNr (PNot (PVar \"p1\" `POr` PVar \"p3))\n",
    "= 1 + 0 + opsNr (PNot (PVar \"p1\" `POr` PVar \"p3\"))\n",
    "= 1 + 0 + 1 + opsNr (PVar \"p1\" `POr` PVar \"p3\")\n",
    "= 1 + 0 + 1 + 1 + opsNr (PVar \"p1\") + opsNr (PVar \"p3)\n",
    "= 1 + 0 + 1 + 1 + 0 + 0\n",
    "= 3\n",
    "```"
   ]
  },
  {
   "cell_type": "code",
   "execution_count": 9,
   "id": "2cac9488-aeeb-49dc-a757-f8c84892af1e",
   "metadata": {
    "tags": []
   },
   "outputs": [],
   "source": [
    "depth :: PropL -> Int\n",
    "depth (PVar _) = 0\n",
    "depth (PNot p) = 1 + depth p\n",
    "depth (PAnd p q) = 1 + max (depth p) (depth q)\n",
    "depth (POr p q) = 1 + max (depth p) (depth q)"
   ]
  },
  {
   "cell_type": "code",
   "execution_count": 10,
   "id": "1e5c1692-5bf3-452e-90be-b54c2c8152b5",
   "metadata": {
    "tags": []
   },
   "outputs": [
    {
     "data": {
      "text/plain": [
       "3"
      ]
     },
     "metadata": {},
     "output_type": "display_data"
    }
   ],
   "source": [
    "depth form1"
   ]
  },
  {
   "cell_type": "code",
   "execution_count": 11,
   "id": "7c84988c-3bf0-4d4d-8c0e-908ee5bae02a",
   "metadata": {
    "tags": []
   },
   "outputs": [
    {
     "data": {
      "text/plain": [
       "4"
      ]
     },
     "metadata": {},
     "output_type": "display_data"
    }
   ],
   "source": [
    "depth form2"
   ]
  },
  {
   "cell_type": "code",
   "execution_count": 12,
   "id": "44097e89-f14c-49a1-b7f1-3143bd7572f3",
   "metadata": {
    "tags": []
   },
   "outputs": [],
   "source": [
    "gatherNames :: PropL -> [String]                  \n",
    "gatherNames (PVar s) = [s]                        \n",
    "gatherNames (PNot p) = gatherNames p                \n",
    "gatherNames (PAnd p q) = gatherNames p ++ gatherNames q\n",
    "gatherNames (POr p q) = gatherNames p ++ gatherNames q"
   ]
  },
  {
   "cell_type": "code",
   "execution_count": 13,
   "id": "4617876a-3d7a-4bd0-92e0-698b80283a94",
   "metadata": {
    "tags": []
   },
   "outputs": [
    {
     "data": {
      "text/plain": [
       "[\"p3\",\"p3\",\"p1\",\"p3\"]"
      ]
     },
     "metadata": {},
     "output_type": "display_data"
    }
   ],
   "source": [
    "gatherNames form2"
   ]
  },
  {
   "cell_type": "code",
   "execution_count": 14,
   "id": "1a31b64e-d31f-4d3d-a6f7-0b0507f0698c",
   "metadata": {
    "tags": []
   },
   "outputs": [],
   "source": [
    "import Data.List\n",
    "\n",
    "propNames :: PropL -> [String]\n",
    "propNames = sort . nub . gatherNames"
   ]
  },
  {
   "cell_type": "code",
   "execution_count": 15,
   "id": "6635d570-25ab-40af-8de4-d27299b1c6e5",
   "metadata": {
    "tags": []
   },
   "outputs": [
    {
     "data": {
      "text/plain": [
       "[\"p1\",\"p3\"]"
      ]
     },
     "metadata": {},
     "output_type": "display_data"
    }
   ],
   "source": [
    "propNames form2"
   ]
  },
  {
   "cell_type": "markdown",
   "id": "6c315e2a-ee0d-41d1-8da3-189ce2ce1a3f",
   "metadata": {},
   "source": [
    "# Conversion to CNF"
   ]
  },
  {
   "cell_type": "markdown",
   "id": "5be0f68e-9267-4aca-aac7-9ec865adc3a2",
   "metadata": {},
   "source": [
    "## de Morgan's (non recursive)"
   ]
  },
  {
   "cell_type": "code",
   "execution_count": 16,
   "id": "82a1b1d4-348b-4217-9ac0-6ad8e3f58afa",
   "metadata": {
    "tags": []
   },
   "outputs": [],
   "source": [
    "dM1 :: PropL -> PropL\n",
    "dM1 (PNot (p `POr` q)) = PNot p `PAnd` PNot q\n",
    "dM1 p = p"
   ]
  },
  {
   "cell_type": "code",
   "execution_count": 17,
   "id": "ca0db0ff-d072-4304-aef1-fc7b34ad049e",
   "metadata": {
    "tags": []
   },
   "outputs": [
    {
     "data": {
      "text/plain": [
       "(~p1 & ~p2)"
      ]
     },
     "metadata": {},
     "output_type": "display_data"
    }
   ],
   "source": [
    "dM1 (PNot (PVar \"p1\" `POr` PVar \"p2\"))"
   ]
  },
  {
   "cell_type": "code",
   "execution_count": 18,
   "id": "282dc76d-696a-4a13-97f6-0f2f1a2ceffa",
   "metadata": {
    "tags": []
   },
   "outputs": [
    {
     "data": {
      "text/plain": [
       "((p3 & p3) | ~(~p1 | p3))"
      ]
     },
     "metadata": {},
     "output_type": "display_data"
    }
   ],
   "source": [
    "dM1 form2"
   ]
  },
  {
   "cell_type": "code",
   "execution_count": 19,
   "id": "44d245e6-d6af-4811-bdba-a0582f5e8dfd",
   "metadata": {
    "tags": []
   },
   "outputs": [],
   "source": [
    "dM :: PropL -> PropL\n",
    "dM (PNot (p `PAnd` q)) = PNot p `POr` PNot q\n",
    "dM (PNot (p `POr` q)) = PNot p `PAnd` PNot q\n",
    "dM p = p"
   ]
  },
  {
   "cell_type": "code",
   "execution_count": 20,
   "id": "cc71185e-5a15-4510-b578-bda99a618eff",
   "metadata": {
    "tags": []
   },
   "outputs": [
    {
     "data": {
      "text/plain": [
       "((p3 & p3) | ~(~p1 | p3))"
      ]
     },
     "metadata": {},
     "output_type": "display_data"
    }
   ],
   "source": [
    "dM form2"
   ]
  },
  {
   "cell_type": "markdown",
   "id": "5ae6098c-fb62-4b4b-b253-3c50dc91501e",
   "metadata": {},
   "source": [
    "## Recursive de Morgan's"
   ]
  },
  {
   "cell_type": "code",
   "execution_count": 21,
   "id": "361ae6f6-9a77-4a8a-b2fc-abc8453e3bd3",
   "metadata": {
    "tags": []
   },
   "outputs": [],
   "source": [
    "dMrec :: PropL -> PropL\n",
    "dMrec (PNot (p `PAnd` q)) = PNot (dM p) `POr` PNot (dM q)\n",
    "dMrec (PNot (p `POr` q)) = PNot (dM p) `PAnd` PNot (dM q)\n",
    "dMrec (PNot p) = PNot (dM p)\n",
    "dMrec (p `PAnd` q) = dM p `PAnd` dM q\n",
    "dMrec (p `POr` q) = dM p `POr` dM q\n",
    "dMrec (PVar p) = PVar p"
   ]
  },
  {
   "cell_type": "code",
   "execution_count": 22,
   "id": "e0e61b94-63e9-4a9c-8528-09614be3de68",
   "metadata": {
    "tags": []
   },
   "outputs": [
    {
     "data": {
      "text/plain": [
       "((p3 & p3) | ~(~p1 | p3))"
      ]
     },
     "metadata": {},
     "output_type": "display_data"
    }
   ],
   "source": [
    "form2"
   ]
  },
  {
   "cell_type": "code",
   "execution_count": 23,
   "id": "eb44b481-13a9-461a-a663-855401436435",
   "metadata": {
    "tags": []
   },
   "outputs": [
    {
     "data": {
      "text/plain": [
       "((p3 & p3) | (~~p1 & ~p3))"
      ]
     },
     "metadata": {},
     "output_type": "display_data"
    }
   ],
   "source": [
    "dMrec form2"
   ]
  },
  {
   "cell_type": "markdown",
   "id": "5162fad0-f173-44d8-a766-5138c2ad1dba",
   "metadata": {},
   "source": [
    "## Recursive DNE"
   ]
  },
  {
   "cell_type": "code",
   "execution_count": 24,
   "id": "8b153083-047c-41c1-bfe5-ba83ce10acdd",
   "metadata": {
    "tags": []
   },
   "outputs": [],
   "source": [
    "dne :: PropL -> PropL\n",
    "dne (PNot (PNot p)) = dne p\n",
    "dne (PNot p) = PNot (dne p)\n",
    "dne (p `PAnd` q) = dne p `PAnd` dne q \n",
    "dne (p `POr` q) = dne p `POr` dne q \n",
    "dne (PVar p) = PVar p"
   ]
  },
  {
   "cell_type": "code",
   "execution_count": 25,
   "id": "21d7d15e-0ed6-4fa2-8720-aa6cdc354a7d",
   "metadata": {
    "tags": []
   },
   "outputs": [],
   "source": [
    "toCNF :: PropL -> PropL\n",
    "toCNF = dne . dMrec"
   ]
  },
  {
   "cell_type": "code",
   "execution_count": 26,
   "id": "0f2b912b-1831-48ce-a924-a5cca060a128",
   "metadata": {
    "tags": []
   },
   "outputs": [
    {
     "data": {
      "text/plain": [
       "((p3 & p3) | (p1 & ~p3))"
      ]
     },
     "metadata": {},
     "output_type": "display_data"
    }
   ],
   "source": [
    "toCNF form2"
   ]
  },
  {
   "cell_type": "markdown",
   "id": "97b35bec-e007-43de-b490-9993302c1e98",
   "metadata": {},
   "source": [
    "## Distributive Law"
   ]
  },
  {
   "cell_type": "code",
   "execution_count": 27,
   "id": "134c33a6-9e4e-4e96-b9ad-b27f2be6aeac",
   "metadata": {
    "tags": []
   },
   "outputs": [],
   "source": [
    "distLaw :: PropL -> PropL \n",
    "distLaw ((p `PAnd` q) `POr` (r `PAnd` s)) = (distLaw p `POr` distLaw r) `PAnd` (distLaw p `POr` distLaw s) `PAnd` (distLaw q `POr` distLaw r) `PAnd` (distLaw q `POr` distLaw s) -- double distributivity\n",
    "distLaw (p `POr` (q `PAnd` r)) = (distLaw p `POr` distLaw q) `PAnd` (distLaw p `POr` r) --left dist\n",
    "distLaw ((q `PAnd` r) `POr` p) = (distLaw q `POr` distLaw p) `PAnd` (distLaw r `POr` distLaw p) --right dist\n",
    "distLaw (PNot p) = PNot (distLaw p)\n",
    "distLaw (p `PAnd` q) = distLaw p `PAnd` distLaw q\n",
    "distLaw (p `POr` q) = distLaw p `POr` distLaw q\n",
    "distLaw (PVar p) = PVar p"
   ]
  },
  {
   "cell_type": "code",
   "execution_count": 28,
   "id": "fc8de2b8-034d-4e6e-947a-d37bd81256d1",
   "metadata": {
    "tags": []
   },
   "outputs": [
    {
     "data": {
      "text/plain": [
       "((p3 | ~(~p1 | p3)) & (p3 | ~(~p1 | p3)))"
      ]
     },
     "metadata": {},
     "output_type": "display_data"
    }
   ],
   "source": [
    "distLaw form2"
   ]
  },
  {
   "cell_type": "code",
   "execution_count": 29,
   "id": "68b0447f-9333-4d0d-86a0-88c27894d4b6",
   "metadata": {
    "tags": []
   },
   "outputs": [],
   "source": [
    "toCNF = distLaw . dne . dM"
   ]
  },
  {
   "cell_type": "code",
   "execution_count": 30,
   "id": "8024cedc-c293-40ae-897a-09a2e794d50d",
   "metadata": {
    "tags": []
   },
   "outputs": [
    {
     "data": {
      "text/plain": [
       "((p3 | ~(~p1 | p3)) & (p3 | ~(~p1 | p3)))"
      ]
     },
     "metadata": {},
     "output_type": "display_data"
    }
   ],
   "source": [
    "toCNF form2"
   ]
  },
  {
   "cell_type": "markdown",
   "id": "40a130c3-eb13-4d71-8394-ea3b67a8efeb",
   "metadata": {
    "tags": []
   },
   "source": [
    "## Computing truth tables"
   ]
  },
  {
   "cell_type": "code",
   "execution_count": 31,
   "id": "88f86c64-531b-452d-a865-07509ee8c92e",
   "metadata": {
    "tags": []
   },
   "outputs": [],
   "source": [
    "type VarAssignment = [(String,Bool)]\n",
    "type TruthTable = [(VarAssignment,Bool)]"
   ]
  },
  {
   "cell_type": "markdown",
   "id": "12461633-a212-4524-9430-e29e1b66b239",
   "metadata": {},
   "source": [
    "Our first step is to gather all of the variables used in a formula and generate all of the possible variable assignments."
   ]
  },
  {
   "cell_type": "code",
   "execution_count": 32,
   "id": "bc84bbee-c38d-49cb-b842-52790450e93b",
   "metadata": {
    "tags": []
   },
   "outputs": [
    {
     "data": {
      "text/plain": [
       "[\"p1\",\"p3\"]"
      ]
     },
     "metadata": {},
     "output_type": "display_data"
    }
   ],
   "source": [
    "propNames form2"
   ]
  },
  {
   "cell_type": "code",
   "execution_count": 51,
   "id": "3ee5fb22-a248-45e2-bf94-c16079f966f3",
   "metadata": {
    "tags": []
   },
   "outputs": [],
   "source": [
    "{-# LANGUAGE ParallelListComp #-}\n",
    "\n",
    "import Control.Monad (replicateM)\n",
    "\n",
    "mkAssignments' :: [String] -> [VarAssignment]\n",
    "mkAssignments' vs = [[(v,t) | v <- vs | t <- ts ] | ts <- replicateM (length vs) [True,False]]\n",
    "\n",
    "mkAssignments'' vs = [ zip vs ts | ts <- replicateM (length vs) [True,False]]"
   ]
  },
  {
   "cell_type": "code",
   "execution_count": 52,
   "id": "5782dd21-a473-43a4-bfa0-a5aa0616cd8f",
   "metadata": {
    "tags": []
   },
   "outputs": [
    {
     "data": {
      "text/plain": [
       "[[(\"p\",True),(\"q\",True)],[(\"p\",True),(\"q\",False)],[(\"p\",False),(\"q\",True)],[(\"p\",False),(\"q\",False)]]"
      ]
     },
     "metadata": {},
     "output_type": "display_data"
    }
   ],
   "source": [
    "exAssigns = mkAssignments'' [\"p\", \"q\"]\n",
    "exAssigns"
   ]
  },
  {
   "cell_type": "code",
   "execution_count": 53,
   "id": "1c61da72-886d-422e-85c7-792fa622529c",
   "metadata": {
    "tags": []
   },
   "outputs": [
    {
     "data": {
      "text/plain": [
       "[[True,True,True],[True,True,False],[True,False,True],[True,False,False],[False,True,True],[False,True,False],[False,False,True],[False,False,False]]"
      ]
     },
     "metadata": {},
     "output_type": "display_data"
    }
   ],
   "source": [
    "import Control.Monad (replicateM)\n",
    "\n",
    "replicateM 3 [True,False]"
   ]
  },
  {
   "cell_type": "code",
   "execution_count": 54,
   "id": "6ac6a807-eb91-401c-b722-d1b38f943f01",
   "metadata": {
    "tags": []
   },
   "outputs": [],
   "source": [
    "mkAssignments :: PropL -> [VarAssignment]\n",
    "mkAssignments = mkAssignments' . propNames"
   ]
  },
  {
   "cell_type": "code",
   "execution_count": 55,
   "id": "07f2e4d5-1e7f-46b6-b9ab-b5609b51edd6",
   "metadata": {
    "tags": []
   },
   "outputs": [],
   "source": [
    "lookup :: (Eq a) => [(a,b)] -> a -> b\n",
    "lookup [] _ = undefined\n",
    "lookup ((key,val):ps) x = if key == x then val else lookup ps x"
   ]
  },
  {
   "cell_type": "code",
   "execution_count": 56,
   "id": "91e8dc01-d1af-475b-9d3b-59d52210c711",
   "metadata": {
    "tags": []
   },
   "outputs": [
    {
     "data": {
      "text/plain": [
       "[[(\"p1\",True),(\"p3\",True)],[(\"p1\",True),(\"p3\",False)],[(\"p1\",False),(\"p3\",True)],[(\"p1\",False),(\"p3\",False)]]"
      ]
     },
     "metadata": {},
     "output_type": "display_data"
    }
   ],
   "source": [
    "mkAssignments form2"
   ]
  },
  {
   "cell_type": "code",
   "execution_count": 57,
   "id": "f59cf1ba-36eb-415b-8fb3-3717fd414386",
   "metadata": {
    "tags": []
   },
   "outputs": [
    {
     "data": {
      "text/html": [
       "<style>/* Styles used for the Hoogle display in the pager */\n",
       ".hoogle-doc {\n",
       "display: block;\n",
       "padding-bottom: 1.3em;\n",
       "padding-left: 0.4em;\n",
       "}\n",
       ".hoogle-code {\n",
       "display: block;\n",
       "font-family: monospace;\n",
       "white-space: pre;\n",
       "}\n",
       ".hoogle-text {\n",
       "display: block;\n",
       "}\n",
       ".hoogle-name {\n",
       "color: green;\n",
       "font-weight: bold;\n",
       "}\n",
       ".hoogle-head {\n",
       "font-weight: bold;\n",
       "}\n",
       ".hoogle-sub {\n",
       "display: block;\n",
       "margin-left: 0.4em;\n",
       "}\n",
       ".hoogle-package {\n",
       "font-weight: bold;\n",
       "font-style: italic;\n",
       "}\n",
       ".hoogle-module {\n",
       "font-weight: bold;\n",
       "}\n",
       ".hoogle-class {\n",
       "font-weight: bold;\n",
       "}\n",
       ".get-type {\n",
       "color: green;\n",
       "font-weight: bold;\n",
       "font-family: monospace;\n",
       "display: block;\n",
       "white-space: pre-wrap;\n",
       "}\n",
       ".show-type {\n",
       "color: green;\n",
       "font-weight: bold;\n",
       "font-family: monospace;\n",
       "margin-left: 1em;\n",
       "}\n",
       ".mono {\n",
       "font-family: monospace;\n",
       "display: block;\n",
       "}\n",
       ".err-msg {\n",
       "color: red;\n",
       "font-style: italic;\n",
       "font-family: monospace;\n",
       "white-space: pre;\n",
       "display: block;\n",
       "}\n",
       "#unshowable {\n",
       "color: red;\n",
       "font-weight: bold;\n",
       "}\n",
       ".err-msg.in.collapse {\n",
       "padding-top: 0.7em;\n",
       "}\n",
       ".highlight-code {\n",
       "white-space: pre;\n",
       "font-family: monospace;\n",
       "}\n",
       ".suggestion-warning { \n",
       "font-weight: bold;\n",
       "color: rgb(200, 130, 0);\n",
       "}\n",
       ".suggestion-error { \n",
       "font-weight: bold;\n",
       "color: red;\n",
       "}\n",
       ".suggestion-name {\n",
       "font-weight: bold;\n",
       "}\n",
       "</style><div class=\"suggestion-name\" style=\"clear:both;\">Use head</div><div class=\"suggestion-row\" style=\"float: left;\"><div class=\"suggestion-warning\">Found:</div><div class=\"highlight-code\" id=\"haskell\">mkAssignments form2 !! 0</div></div><div class=\"suggestion-row\" style=\"float: left;\"><div class=\"suggestion-warning\">Why Not:</div><div class=\"highlight-code\" id=\"haskell\">head (mkAssignments form2)</div></div>"
      ],
      "text/plain": [
       "Line 1: Use head\n",
       "Found:\n",
       "mkAssignments form2 !! 0\n",
       "Why not:\n",
       "head (mkAssignments form2)"
      ]
     },
     "metadata": {},
     "output_type": "display_data"
    }
   ],
   "source": [
    "exAssignments = mkAssignments form2 !! 0"
   ]
  },
  {
   "cell_type": "code",
   "execution_count": 58,
   "id": "c477d1fc-5c1b-45da-aa0e-79e15b0f21d7",
   "metadata": {
    "tags": []
   },
   "outputs": [
    {
     "data": {
      "text/plain": [
       "[(\"p1\",True),(\"p3\",True)]"
      ]
     },
     "metadata": {},
     "output_type": "display_data"
    }
   ],
   "source": [
    "exAssignments"
   ]
  },
  {
   "cell_type": "code",
   "execution_count": 59,
   "id": "002ee32c-ce97-4a6d-adb7-e29979726951",
   "metadata": {
    "tags": []
   },
   "outputs": [
    {
     "data": {
      "text/plain": [
       "True"
      ]
     },
     "metadata": {},
     "output_type": "display_data"
    }
   ],
   "source": [
    "lookup exAssignments \"p1\""
   ]
  },
  {
   "cell_type": "code",
   "execution_count": 60,
   "id": "03d17352-2b49-4a4d-82b8-2436f97acdfe",
   "metadata": {
    "tags": []
   },
   "outputs": [],
   "source": [
    "interpretAtA :: VarAssignment -> PropL -> Bool\n",
    "interpretAtA a (PVar v) = lookup a v\n",
    "interpretAtA a (PNot p) = not (interpretAtA a p)\n",
    "interpretAtA a (p `PAnd` q) = interpretAtA a p && interpretAtA a q\n",
    "interpretAtA a (p `POr` q) = interpretAtA a p || interpretAtA a q"
   ]
  },
  {
   "cell_type": "code",
   "execution_count": 61,
   "id": "a90a53fd-ef35-4dce-9f02-a9d4c6430379",
   "metadata": {
    "tags": []
   },
   "outputs": [
    {
     "data": {
      "text/plain": [
       "True"
      ]
     },
     "metadata": {},
     "output_type": "display_data"
    }
   ],
   "source": [
    "interpretAtA exAssignments form2"
   ]
  },
  {
   "cell_type": "code",
   "execution_count": 62,
   "id": "c7a1cb30-fcb7-498a-bc17-94cc4aaee55b",
   "metadata": {
    "tags": []
   },
   "outputs": [
    {
     "data": {
      "text/plain": [
       "((p3 & p3) | ~(~p1 | p3))"
      ]
     },
     "metadata": {},
     "output_type": "display_data"
    }
   ],
   "source": [
    "form2"
   ]
  },
  {
   "cell_type": "code",
   "execution_count": 63,
   "id": "6541a85a-3bff-4ae9-b68e-4ef3310e503c",
   "metadata": {
    "tags": []
   },
   "outputs": [],
   "source": [
    "toTruthTable :: PropL -> [(VarAssignment,Bool)]\n",
    "toTruthTable p = [(a, interpretAtA a p) | a <- mkAssignments p]"
   ]
  },
  {
   "cell_type": "code",
   "execution_count": 64,
   "id": "84a90c82-6fea-46ca-9a56-afb1bf7089cc",
   "metadata": {
    "tags": []
   },
   "outputs": [
    {
     "data": {
      "text/plain": [
       "[([(\"p1\",True),(\"p3\",True)],True),([(\"p1\",True),(\"p3\",False)],True),([(\"p1\",False),(\"p3\",True)],True),([(\"p1\",False),(\"p3\",False)],False)]"
      ]
     },
     "metadata": {},
     "output_type": "display_data"
    }
   ],
   "source": [
    "toTruthTable form2"
   ]
  },
  {
   "cell_type": "code",
   "execution_count": 65,
   "id": "0ef3e6a5-fe69-40cd-b08f-ec773a7169b3",
   "metadata": {
    "tags": []
   },
   "outputs": [
    {
     "data": {
      "text/plain": [
       "[([(\"p\",True),(\"q\",True),(\"r\",True)],True),([(\"p\",True),(\"q\",True),(\"r\",False)],False),([(\"p\",True),(\"q\",False),(\"r\",True)],True),([(\"p\",True),(\"q\",False),(\"r\",False)],True),([(\"p\",False),(\"q\",True),(\"r\",True)],True),([(\"p\",False),(\"q\",True),(\"r\",False)],True),([(\"p\",False),(\"q\",False),(\"r\",True)],True),([(\"p\",False),(\"q\",False),(\"r\",False)],True)]"
      ]
     },
     "metadata": {},
     "output_type": "display_data"
    }
   ],
   "source": [
    "toTruthTable (PNot (PVar \"p\" `PAnd` PVar \"q\") `POr` PVar \"r\")"
   ]
  },
  {
   "cell_type": "code",
   "execution_count": 66,
   "id": "fdaa9f3a-3585-4b94-8b45-f51fc58a85f9",
   "metadata": {
    "tags": []
   },
   "outputs": [],
   "source": [
    "formAnd = PVar \"p1\" `PAnd` PVar \"p2\"\n",
    "exTable = toTruthTable formAnd"
   ]
  },
  {
   "cell_type": "markdown",
   "id": "317ad331-121e-49cc-a0ce-516117f844e0",
   "metadata": {},
   "source": [
    "## Interpretation using a case expression"
   ]
  },
  {
   "cell_type": "code",
   "execution_count": 49,
   "id": "c10e10c2-e7ce-4a8d-8f41-3b7af1a19d84",
   "metadata": {
    "tags": []
   },
   "outputs": [],
   "source": [
    "interpretAtA a exp = case exp of\n",
    "    (PVar p) -> lookup a p\n",
    "    (PNot p) -> not (interpretAtA a p)\n",
    "    (p `PAnd` q) -> interpretAtA a p && interpretAtA a q\n",
    "    (p `POr` q) -> interpretAtA a p || interpretAtA a q"
   ]
  },
  {
   "cell_type": "code",
   "execution_count": 50,
   "id": "e42632c7-8487-4a05-8dc7-50ea2fbaffad",
   "metadata": {
    "tags": []
   },
   "outputs": [
    {
     "data": {
      "text/plain": [
       "[\"p\",\"q\",\"r\"]"
      ]
     },
     "metadata": {},
     "output_type": "display_data"
    }
   ],
   "source": [
    "gatherNames (PNot (PVar \"p\" `PAnd` PVar \"q\") `POr` PVar \"r\")"
   ]
  },
  {
   "cell_type": "code",
   "execution_count": 67,
   "id": "78b48797-c2f0-42e7-ae7f-b6fcd2cb575f",
   "metadata": {
    "tags": []
   },
   "outputs": [
    {
     "data": {
      "text/plain": [
       "\"True\""
      ]
     },
     "metadata": {},
     "output_type": "display_data"
    }
   ],
   "source": [
    "show True"
   ]
  },
  {
   "cell_type": "markdown",
   "id": "b05a0786-e047-4085-bf0c-70b34d630149",
   "metadata": {},
   "source": [
    "## Pretty printing a truth-table"
   ]
  },
  {
   "cell_type": "code",
   "execution_count": 75,
   "id": "ccd7e06c-061a-4a9f-a37b-baa871acd8e4",
   "metadata": {
    "tags": []
   },
   "outputs": [],
   "source": [
    "printBool :: Bool -> String\n",
    "printBool True = \"1\"\n",
    "printBool False = \"0\"\n",
    "\n",
    "prettyPrintAssignment :: VarAssignment -> String\n",
    "prettyPrintAssignment [] = \"\"\n",
    "prettyPrintAssignment ((v,t):as) = printBool t ++ \" \" ++ prettyPrintAssignment as\n",
    "\n",
    "\n",
    "prettyPrintTable :: [(VarAssignment,Bool)] -> String\n",
    "prettyPrintTable [] = \"\"\n",
    "prettyPrintTable ((a,t):ls) = prettyPrintAssignment a ++ \"| \" ++ printBool t ++ \"\\n\" ++ prettyPrintTable ls"
   ]
  },
  {
   "cell_type": "code",
   "execution_count": 95,
   "id": "eb33aaa5-ed61-4bef-8afd-5a1a3f985083",
   "metadata": {
    "tags": []
   },
   "outputs": [
    {
     "data": {
      "text/plain": [
       "1 1 | 1\n",
       "1 0 | 0\n",
       "0 1 | 0\n",
       "0 0 | 0"
      ]
     },
     "metadata": {},
     "output_type": "display_data"
    }
   ],
   "source": [
    "putStrLn $ prettyPrintTable exTable"
   ]
  },
  {
   "cell_type": "code",
   "execution_count": 98,
   "id": "cdb08e6e-1a36-40fa-83cf-b8abb7ed4fb4",
   "metadata": {
    "tags": []
   },
   "outputs": [
    {
     "data": {
      "text/html": [
       "<style>/* Styles used for the Hoogle display in the pager */\n",
       ".hoogle-doc {\n",
       "display: block;\n",
       "padding-bottom: 1.3em;\n",
       "padding-left: 0.4em;\n",
       "}\n",
       ".hoogle-code {\n",
       "display: block;\n",
       "font-family: monospace;\n",
       "white-space: pre;\n",
       "}\n",
       ".hoogle-text {\n",
       "display: block;\n",
       "}\n",
       ".hoogle-name {\n",
       "color: green;\n",
       "font-weight: bold;\n",
       "}\n",
       ".hoogle-head {\n",
       "font-weight: bold;\n",
       "}\n",
       ".hoogle-sub {\n",
       "display: block;\n",
       "margin-left: 0.4em;\n",
       "}\n",
       ".hoogle-package {\n",
       "font-weight: bold;\n",
       "font-style: italic;\n",
       "}\n",
       ".hoogle-module {\n",
       "font-weight: bold;\n",
       "}\n",
       ".hoogle-class {\n",
       "font-weight: bold;\n",
       "}\n",
       ".get-type {\n",
       "color: green;\n",
       "font-weight: bold;\n",
       "font-family: monospace;\n",
       "display: block;\n",
       "white-space: pre-wrap;\n",
       "}\n",
       ".show-type {\n",
       "color: green;\n",
       "font-weight: bold;\n",
       "font-family: monospace;\n",
       "margin-left: 1em;\n",
       "}\n",
       ".mono {\n",
       "font-family: monospace;\n",
       "display: block;\n",
       "}\n",
       ".err-msg {\n",
       "color: red;\n",
       "font-style: italic;\n",
       "font-family: monospace;\n",
       "white-space: pre;\n",
       "display: block;\n",
       "}\n",
       "#unshowable {\n",
       "color: red;\n",
       "font-weight: bold;\n",
       "}\n",
       ".err-msg.in.collapse {\n",
       "padding-top: 0.7em;\n",
       "}\n",
       ".highlight-code {\n",
       "white-space: pre;\n",
       "font-family: monospace;\n",
       "}\n",
       ".suggestion-warning { \n",
       "font-weight: bold;\n",
       "color: rgb(200, 130, 0);\n",
       "}\n",
       ".suggestion-error { \n",
       "font-weight: bold;\n",
       "color: red;\n",
       "}\n",
       ".suggestion-name {\n",
       "font-weight: bold;\n",
       "}\n",
       "</style><div class=\"suggestion-name\" style=\"clear:both;\">Move brackets to avoid $</div><div class=\"suggestion-row\" style=\"float: left;\"><div class=\"suggestion-warning\">Found:</div><div class=\"highlight-code\" id=\"haskell\">(unwords $ propNames p)\n",
       "  ++ \" | \" ++ show p ++ \"\\n\" ++ prettyPrintTable (toTruthTable p)</div></div><div class=\"suggestion-row\" style=\"float: left;\"><div class=\"suggestion-warning\">Why Not:</div><div class=\"highlight-code\" id=\"haskell\">unwords (propNames p)\n",
       "  ++ \" | \" ++ show p ++ \"\\n\" ++ prettyPrintTable (toTruthTable p)</div></div>"
      ],
      "text/plain": [
       "Line 2: Move brackets to avoid $\n",
       "Found:\n",
       "(unwords $ propNames p)\n",
       "  ++ \" | \" ++ show p ++ \"\\n\" ++ prettyPrintTable (toTruthTable p)\n",
       "Why not:\n",
       "unwords (propNames p)\n",
       "  ++ \" | \" ++ show p ++ \"\\n\" ++ prettyPrintTable (toTruthTable p)"
      ]
     },
     "metadata": {},
     "output_type": "display_data"
    }
   ],
   "source": [
    "printPrettyTable :: PropL -> String\n",
    "printPrettyTable p = (unwords $ propNames p) ++ \" | \" ++ show p ++ \"\\n\" ++ prettyPrintTable (toTruthTable p)"
   ]
  },
  {
   "cell_type": "code",
   "execution_count": 100,
   "id": "2c39cd3e-3a41-4473-9bae-c883056f377b",
   "metadata": {
    "tags": []
   },
   "outputs": [
    {
     "data": {
      "text/plain": [
       "p1 p3 | ((p3 & p3) | ~(~p1 | p3))\n",
       "1 1 | 1\n",
       "1 0 | 1\n",
       "0 1 | 1\n",
       "0 0 | 0"
      ]
     },
     "metadata": {},
     "output_type": "display_data"
    }
   ],
   "source": [
    "putStrLn $ printPrettyTable form2"
   ]
  },
  {
   "cell_type": "code",
   "execution_count": 94,
   "id": "e1bf4f1a-4268-4f1e-adee-e03fb1ad1631",
   "metadata": {
    "tags": []
   },
   "outputs": [
    {
     "data": {
      "text/plain": [
       "[\"p1\",\"p3\"]"
      ]
     },
     "metadata": {},
     "output_type": "display_data"
    }
   ],
   "source": [
    "propNames form2"
   ]
  },
  {
   "cell_type": "code",
   "execution_count": null,
   "id": "d0c7dbc4-8b71-4653-9cca-97b3afc38229",
   "metadata": {},
   "outputs": [],
   "source": []
  }
 ],
 "metadata": {
  "kernelspec": {
   "display_name": "haskell-minimal kernel",
   "language": "haskell",
   "name": "haskell-minimal"
  },
  "language_info": {
   "codemirror_mode": "Haskell",
   "file_extension": ".hs",
   "mimetype": "text/x-haskell",
   "name": "haskell",
   "pygments_lexer": "Haskell",
   "version": "9.0.2"
  }
 },
 "nbformat": 4,
 "nbformat_minor": 5
}
