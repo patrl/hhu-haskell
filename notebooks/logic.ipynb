{
 "cells": [
  {
   "cell_type": "markdown",
   "id": "953335d7-675e-4b39-8bf9-7dfe6d0015d6",
   "metadata": {},
   "source": [
    "# Propositional logic"
   ]
  },
  {
   "cell_type": "code",
   "execution_count": 7,
   "id": "250da101-1244-45ba-abaf-497f5162b491",
   "metadata": {
    "tags": []
   },
   "outputs": [],
   "source": [
    "data PropL = PVar String | PNot PropL | PropL `PAnd` PropL | PropL `POr` PropL deriving Eq"
   ]
  },
  {
   "cell_type": "code",
   "execution_count": 8,
   "id": "470db367-9368-4db5-b5cd-8d400d0c69fe",
   "metadata": {
    "tags": []
   },
   "outputs": [],
   "source": [
    "instance Show PropL where\n",
    "    show (PVar s) = s\n",
    "    show (PNot p) = \"~\" ++ show p\n",
    "    show (p `PAnd` q) = \"(\" ++ show p ++ \" & \" ++ show q ++ \")\"\n",
    "    show (p `POr` q) = \"(\" ++ show p ++ \" | \" ++ show q ++ \")\""
   ]
  },
  {
   "cell_type": "code",
   "execution_count": 37,
   "id": "17484bf1-431f-41e0-a5ad-1a3291b7b354",
   "metadata": {
    "tags": []
   },
   "outputs": [],
   "source": [
    "form1 = PVar \"p1\" `PAnd` PNot (PVar \"p1\" `POr` PVar \"p3\")"
   ]
  },
  {
   "cell_type": "code",
   "execution_count": 19,
   "id": "99f95c8c-4f6f-4f9b-8034-5c19c96fc000",
   "metadata": {
    "tags": []
   },
   "outputs": [
    {
     "data": {
      "text/plain": [
       "(p1 & ~(p1 | p3))"
      ]
     },
     "metadata": {},
     "output_type": "display_data"
    }
   ],
   "source": [
    "form1"
   ]
  },
  {
   "cell_type": "code",
   "execution_count": 39,
   "id": "8624d5bf-47ad-47b3-9ce3-77feb95ab69c",
   "metadata": {
    "tags": []
   },
   "outputs": [],
   "source": [
    "form2 = (PVar \"p3\" `POr` PVar \"p3\") `PAnd` PNot (PVar \"p1\" `POr` PVar \"p3\")"
   ]
  },
  {
   "cell_type": "code",
   "execution_count": 40,
   "id": "2b20f31a-b8c8-48ab-8588-a5261508f82c",
   "metadata": {
    "tags": []
   },
   "outputs": [
    {
     "data": {
      "text/plain": [
       "((p3 | p3) & ~(p1 | p3))"
      ]
     },
     "metadata": {},
     "output_type": "display_data"
    }
   ],
   "source": [
    "form2"
   ]
  },
  {
   "cell_type": "code",
   "execution_count": 13,
   "id": "fbe58694-4906-4f9b-ba6a-617d5e72def8",
   "metadata": {
    "tags": []
   },
   "outputs": [],
   "source": [
    "opsNr :: PropL -> Int\n",
    "opsNr (PVar _) = 0\n",
    "opsNr (PNot p) = 1 + opsNr p\n",
    "opsNr (PAnd p q) = 1 + opsNr p + opsNr q\n",
    "opsNr (POr p q) = 1 + opsNr p + opsNr q"
   ]
  },
  {
   "cell_type": "code",
   "execution_count": 14,
   "id": "e226da6e-8afd-4994-8ed9-bff44376f72f",
   "metadata": {
    "tags": []
   },
   "outputs": [
    {
     "data": {
      "text/plain": [
       "3"
      ]
     },
     "metadata": {},
     "output_type": "display_data"
    }
   ],
   "source": [
    "opsNr form1"
   ]
  },
  {
   "cell_type": "code",
   "execution_count": 17,
   "id": "2cac9488-aeeb-49dc-a757-f8c84892af1e",
   "metadata": {
    "tags": []
   },
   "outputs": [],
   "source": [
    "depth :: PropL -> Int\n",
    "depth (PVar _) = 0\n",
    "depth (PNot p) = 1 + depth p\n",
    "depth (PAnd p q) = 1 + max (depth p) (depth q)\n",
    "depth (POr p q) = 1 + max (depth p) (depth q)"
   ]
  },
  {
   "cell_type": "code",
   "execution_count": 18,
   "id": "1e5c1692-5bf3-452e-90be-b54c2c8152b5",
   "metadata": {
    "tags": []
   },
   "outputs": [
    {
     "data": {
      "text/plain": [
       "3"
      ]
     },
     "metadata": {},
     "output_type": "display_data"
    }
   ],
   "source": [
    "depth form1"
   ]
  },
  {
   "cell_type": "code",
   "execution_count": 24,
   "id": "7c84988c-3bf0-4d4d-8c0e-908ee5bae02a",
   "metadata": {
    "tags": []
   },
   "outputs": [
    {
     "data": {
      "text/plain": [
       "3"
      ]
     },
     "metadata": {},
     "output_type": "display_data"
    }
   ],
   "source": [
    "depth form2"
   ]
  },
  {
   "cell_type": "code",
   "execution_count": 26,
   "id": "44097e89-f14c-49a1-b7f1-3143bd7572f3",
   "metadata": {
    "tags": []
   },
   "outputs": [],
   "source": [
    "gatherNames :: PropL -> [String]                  \n",
    "gatherNames (PVar s) = [s]                        \n",
    "gatherNames (PNot p) = gatherNames p                \n",
    "gatherNames (PAnd p q) = gatherNames p ++ gatherNames q\n",
    "gatherNames (POr p q) = gatherNames p ++ gatherNames q"
   ]
  },
  {
   "cell_type": "code",
   "execution_count": 41,
   "id": "4617876a-3d7a-4bd0-92e0-698b80283a94",
   "metadata": {
    "tags": []
   },
   "outputs": [
    {
     "data": {
      "text/plain": [
       "[\"p3\",\"p3\",\"p1\",\"p3\"]"
      ]
     },
     "metadata": {},
     "output_type": "display_data"
    }
   ],
   "source": [
    "gatherNames form2"
   ]
  },
  {
   "cell_type": "code",
   "execution_count": 28,
   "id": "1a31b64e-d31f-4d3d-a6f7-0b0507f0698c",
   "metadata": {
    "tags": []
   },
   "outputs": [],
   "source": [
    "import Data.List\n",
    "\n",
    "propNames :: PropL -> [String]\n",
    "propNames = sort . nub . gatherNames"
   ]
  },
  {
   "cell_type": "code",
   "execution_count": 42,
   "id": "6635d570-25ab-40af-8de4-d27299b1c6e5",
   "metadata": {
    "tags": []
   },
   "outputs": [
    {
     "data": {
      "text/plain": [
       "[\"p1\",\"p3\"]"
      ]
     },
     "metadata": {},
     "output_type": "display_data"
    }
   ],
   "source": [
    "propNames form2"
   ]
  },
  {
   "cell_type": "code",
   "execution_count": null,
   "id": "8bb210ad-7cc9-4a7d-95a8-f8fdb37e683f",
   "metadata": {},
   "outputs": [],
   "source": []
  }
 ],
 "metadata": {
  "kernelspec": {
   "display_name": "haskell-minimal kernel",
   "language": "haskell",
   "name": "haskell-minimal"
  },
  "language_info": {
   "codemirror_mode": "Haskell",
   "file_extension": ".hs",
   "mimetype": "text/x-haskell",
   "name": "haskell",
   "pygments_lexer": "Haskell",
   "version": "9.0.2"
  }
 },
 "nbformat": 4,
 "nbformat_minor": 5
}
