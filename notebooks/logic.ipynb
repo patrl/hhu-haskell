{
 "cells": [
  {
   "cell_type": "markdown",
   "id": "953335d7-675e-4b39-8bf9-7dfe6d0015d6",
   "metadata": {},
   "source": [
    "# Propositional logic"
   ]
  },
  {
   "cell_type": "code",
   "execution_count": 68,
   "id": "250da101-1244-45ba-abaf-497f5162b491",
   "metadata": {
    "tags": []
   },
   "outputs": [],
   "source": [
    "data PropL = PVar String | PNot PropL | PropL `PAnd` PropL | PropL `POr` PropL deriving Eq"
   ]
  },
  {
   "cell_type": "code",
   "execution_count": 69,
   "id": "470db367-9368-4db5-b5cd-8d400d0c69fe",
   "metadata": {
    "tags": []
   },
   "outputs": [],
   "source": [
    "instance Show PropL where\n",
    "    show (PVar s) = s\n",
    "    show (PNot p) = \"~\" ++ show p\n",
    "    show (p `PAnd` q) = \"(\" ++ show p ++ \" & \" ++ show q ++ \")\"\n",
    "    show (p `POr` q) = \"(\" ++ show p ++ \" | \" ++ show q ++ \")\""
   ]
  },
  {
   "cell_type": "code",
   "execution_count": 70,
   "id": "17484bf1-431f-41e0-a5ad-1a3291b7b354",
   "metadata": {
    "tags": []
   },
   "outputs": [],
   "source": [
    "form1 = PVar \"p1\" `PAnd` PNot (PVar \"p1\" `POr` PVar \"p3\")"
   ]
  },
  {
   "cell_type": "code",
   "execution_count": 71,
   "id": "99f95c8c-4f6f-4f9b-8034-5c19c96fc000",
   "metadata": {
    "tags": []
   },
   "outputs": [
    {
     "data": {
      "text/plain": [
       "\"(p1 & ~(p1 | p3))\""
      ]
     },
     "metadata": {},
     "output_type": "display_data"
    }
   ],
   "source": [
    "show form1"
   ]
  },
  {
   "cell_type": "code",
   "execution_count": 72,
   "id": "8624d5bf-47ad-47b3-9ce3-77feb95ab69c",
   "metadata": {
    "tags": []
   },
   "outputs": [],
   "source": [
    "form2 = (PVar \"p3\" `PAnd` PVar \"p3\") `POr` PNot (PNot (PVar \"p1\") `POr` PVar \"p3\")"
   ]
  },
  {
   "cell_type": "code",
   "execution_count": 73,
   "id": "2b20f31a-b8c8-48ab-8588-a5261508f82c",
   "metadata": {
    "tags": []
   },
   "outputs": [
    {
     "data": {
      "text/plain": [
       "((p3 & p3) | ~(~p1 | p3))"
      ]
     },
     "metadata": {},
     "output_type": "display_data"
    }
   ],
   "source": [
    "form2"
   ]
  },
  {
   "cell_type": "markdown",
   "id": "c9a01518-0624-4235-ba42-1af87db6b374",
   "metadata": {},
   "source": [
    "## Number of operators"
   ]
  },
  {
   "cell_type": "code",
   "execution_count": 74,
   "id": "fbe58694-4906-4f9b-ba6a-617d5e72def8",
   "metadata": {
    "tags": []
   },
   "outputs": [],
   "source": [
    "opsNr :: PropL -> Int\n",
    "opsNr (PVar _) = 0\n",
    "opsNr (PNot p) = 1 + opsNr p\n",
    "opsNr (PAnd p q) = 1 + opsNr p + opsNr q\n",
    "opsNr (POr p q) = 1 + opsNr p + opsNr q"
   ]
  },
  {
   "cell_type": "code",
   "execution_count": 75,
   "id": "e226da6e-8afd-4994-8ed9-bff44376f72f",
   "metadata": {
    "tags": []
   },
   "outputs": [
    {
     "data": {
      "text/plain": [
       "3"
      ]
     },
     "metadata": {},
     "output_type": "display_data"
    }
   ],
   "source": [
    "opsNr form1"
   ]
  },
  {
   "cell_type": "markdown",
   "id": "44cdb534-f543-4082-a52d-d326a1c7cc36",
   "metadata": {},
   "source": [
    "```\n",
    "opsNr (PVar \"p1\" `PAnd` PNot (PVar \"p1\" `POr` PVar \"p3\"))\n",
    "= 1 + opsNr (PVar \"p1) + opsNr (PNot (PVar \"p1\" `POr` PVar \"p3))\n",
    "= 1 + 0 + opsNr (PNot (PVar \"p1\" `POr` PVar \"p3\"))\n",
    "= 1 + 0 + 1 + opsNr (PVar \"p1\" `POr` PVar \"p3\")\n",
    "= 1 + 0 + 1 + 1 + opsNr (PVar \"p1\") + opsNr (PVar \"p3)\n",
    "= 1 + 0 + 1 + 1 + 0 + 0\n",
    "= 3\n",
    "```"
   ]
  },
  {
   "cell_type": "code",
   "execution_count": 76,
   "id": "2cac9488-aeeb-49dc-a757-f8c84892af1e",
   "metadata": {
    "tags": []
   },
   "outputs": [],
   "source": [
    "depth :: PropL -> Int\n",
    "depth (PVar _) = 0\n",
    "depth (PNot p) = 1 + depth p\n",
    "depth (PAnd p q) = 1 + max (depth p) (depth q)\n",
    "depth (POr p q) = 1 + max (depth p) (depth q)"
   ]
  },
  {
   "cell_type": "code",
   "execution_count": 77,
   "id": "1e5c1692-5bf3-452e-90be-b54c2c8152b5",
   "metadata": {
    "tags": []
   },
   "outputs": [
    {
     "data": {
      "text/plain": [
       "3"
      ]
     },
     "metadata": {},
     "output_type": "display_data"
    }
   ],
   "source": [
    "depth form1"
   ]
  },
  {
   "cell_type": "code",
   "execution_count": 78,
   "id": "7c84988c-3bf0-4d4d-8c0e-908ee5bae02a",
   "metadata": {
    "tags": []
   },
   "outputs": [
    {
     "data": {
      "text/plain": [
       "4"
      ]
     },
     "metadata": {},
     "output_type": "display_data"
    }
   ],
   "source": [
    "depth form2"
   ]
  },
  {
   "cell_type": "code",
   "execution_count": 79,
   "id": "44097e89-f14c-49a1-b7f1-3143bd7572f3",
   "metadata": {
    "tags": []
   },
   "outputs": [],
   "source": [
    "gatherNames :: PropL -> [String]                  \n",
    "gatherNames (PVar s) = [s]                        \n",
    "gatherNames (PNot p) = gatherNames p                \n",
    "gatherNames (PAnd p q) = gatherNames p ++ gatherNames q\n",
    "gatherNames (POr p q) = gatherNames p ++ gatherNames q"
   ]
  },
  {
   "cell_type": "code",
   "execution_count": 80,
   "id": "4617876a-3d7a-4bd0-92e0-698b80283a94",
   "metadata": {
    "tags": []
   },
   "outputs": [
    {
     "data": {
      "text/plain": [
       "[\"p3\",\"p3\",\"p1\",\"p3\"]"
      ]
     },
     "metadata": {},
     "output_type": "display_data"
    }
   ],
   "source": [
    "gatherNames form2"
   ]
  },
  {
   "cell_type": "code",
   "execution_count": 81,
   "id": "1a31b64e-d31f-4d3d-a6f7-0b0507f0698c",
   "metadata": {
    "tags": []
   },
   "outputs": [],
   "source": [
    "import Data.List\n",
    "\n",
    "propNames :: PropL -> [String]\n",
    "propNames = sort . nub . gatherNames"
   ]
  },
  {
   "cell_type": "code",
   "execution_count": 82,
   "id": "6635d570-25ab-40af-8de4-d27299b1c6e5",
   "metadata": {
    "tags": []
   },
   "outputs": [
    {
     "data": {
      "text/plain": [
       "[\"p1\",\"p3\"]"
      ]
     },
     "metadata": {},
     "output_type": "display_data"
    }
   ],
   "source": [
    "propNames form2"
   ]
  },
  {
   "cell_type": "markdown",
   "id": "6c315e2a-ee0d-41d1-8da3-189ce2ce1a3f",
   "metadata": {},
   "source": [
    "# Conversion to CNF"
   ]
  },
  {
   "cell_type": "markdown",
   "id": "5be0f68e-9267-4aca-aac7-9ec865adc3a2",
   "metadata": {},
   "source": [
    "## de Morgan's (non recursive)"
   ]
  },
  {
   "cell_type": "code",
   "execution_count": 83,
   "id": "82a1b1d4-348b-4217-9ac0-6ad8e3f58afa",
   "metadata": {
    "tags": []
   },
   "outputs": [],
   "source": [
    "dM1 :: PropL -> PropL\n",
    "dM1 (PNot (p `POr` q)) = PNot p `PAnd` PNot q\n",
    "dM1 p = p"
   ]
  },
  {
   "cell_type": "code",
   "execution_count": 84,
   "id": "ca0db0ff-d072-4304-aef1-fc7b34ad049e",
   "metadata": {
    "tags": []
   },
   "outputs": [
    {
     "data": {
      "text/plain": [
       "(~p1 & ~p2)"
      ]
     },
     "metadata": {},
     "output_type": "display_data"
    }
   ],
   "source": [
    "dM1 (PNot (PVar \"p1\" `POr` PVar \"p2\"))"
   ]
  },
  {
   "cell_type": "code",
   "execution_count": 85,
   "id": "282dc76d-696a-4a13-97f6-0f2f1a2ceffa",
   "metadata": {
    "tags": []
   },
   "outputs": [
    {
     "data": {
      "text/plain": [
       "((p3 & p3) | ~(~p1 | p3))"
      ]
     },
     "metadata": {},
     "output_type": "display_data"
    }
   ],
   "source": [
    "dM1 form2"
   ]
  },
  {
   "cell_type": "code",
   "execution_count": 86,
   "id": "44d245e6-d6af-4811-bdba-a0582f5e8dfd",
   "metadata": {
    "tags": []
   },
   "outputs": [],
   "source": [
    "dM :: PropL -> PropL\n",
    "dM (PNot (p `PAnd` q)) = PNot p `POr` PNot q\n",
    "dM (PNot (p `POr` q)) = PNot p `PAnd` PNot q\n",
    "dM p = p"
   ]
  },
  {
   "cell_type": "code",
   "execution_count": 87,
   "id": "cc71185e-5a15-4510-b578-bda99a618eff",
   "metadata": {
    "tags": []
   },
   "outputs": [
    {
     "data": {
      "text/plain": [
       "((p3 & p3) | ~(~p1 | p3))"
      ]
     },
     "metadata": {},
     "output_type": "display_data"
    }
   ],
   "source": [
    "dM form2"
   ]
  },
  {
   "cell_type": "markdown",
   "id": "5ae6098c-fb62-4b4b-b253-3c50dc91501e",
   "metadata": {},
   "source": [
    "## Recursive de Morgan's"
   ]
  },
  {
   "cell_type": "code",
   "execution_count": 88,
   "id": "361ae6f6-9a77-4a8a-b2fc-abc8453e3bd3",
   "metadata": {
    "tags": []
   },
   "outputs": [],
   "source": [
    "dMrec :: PropL -> PropL\n",
    "dMrec (PNot (p `PAnd` q)) = PNot (dM p) `POr` PNot (dM q)\n",
    "dMrec (PNot (p `POr` q)) = PNot (dM p) `PAnd` PNot (dM q)\n",
    "dMrec (PNot p) = PNot (dM p)\n",
    "dMrec (p `PAnd` q) = dM p `PAnd` dM q\n",
    "dMrec (p `POr` q) = dM p `POr` dM q\n",
    "dMrec (PVar p) = PVar p"
   ]
  },
  {
   "cell_type": "code",
   "execution_count": 90,
   "id": "e0e61b94-63e9-4a9c-8528-09614be3de68",
   "metadata": {
    "tags": []
   },
   "outputs": [
    {
     "data": {
      "text/plain": [
       "((p3 & p3) | ~(~p1 | p3))"
      ]
     },
     "metadata": {},
     "output_type": "display_data"
    }
   ],
   "source": [
    "form2"
   ]
  },
  {
   "cell_type": "code",
   "execution_count": 91,
   "id": "eb44b481-13a9-461a-a663-855401436435",
   "metadata": {
    "tags": []
   },
   "outputs": [
    {
     "data": {
      "text/plain": [
       "((p3 & p3) | (~~p1 & ~p3))"
      ]
     },
     "metadata": {},
     "output_type": "display_data"
    }
   ],
   "source": [
    "dMrec form2"
   ]
  },
  {
   "cell_type": "markdown",
   "id": "5162fad0-f173-44d8-a766-5138c2ad1dba",
   "metadata": {},
   "source": [
    "## Recursive DNE"
   ]
  },
  {
   "cell_type": "code",
   "execution_count": 45,
   "id": "8b153083-047c-41c1-bfe5-ba83ce10acdd",
   "metadata": {
    "tags": []
   },
   "outputs": [],
   "source": [
    "dne :: PropL -> PropL\n",
    "dne (PNot (PNot p)) = dne p\n",
    "dne (PNot p) = PNot (dne p)\n",
    "dne (p `PAnd` q) = dne p `PAnd` dne q \n",
    "dne (p `POr` q) = dne p `POr` dne q \n",
    "dne (PVar p) = PVar p"
   ]
  },
  {
   "cell_type": "code",
   "execution_count": 46,
   "id": "21d7d15e-0ed6-4fa2-8720-aa6cdc354a7d",
   "metadata": {
    "tags": []
   },
   "outputs": [],
   "source": [
    "toCNF :: PropL -> PropL\n",
    "toCNF = dne . dMrec"
   ]
  },
  {
   "cell_type": "code",
   "execution_count": 47,
   "id": "0f2b912b-1831-48ce-a924-a5cca060a128",
   "metadata": {
    "tags": []
   },
   "outputs": [
    {
     "data": {
      "text/plain": [
       "((p3 & p3) | (p1 & ~p3))"
      ]
     },
     "metadata": {},
     "output_type": "display_data"
    }
   ],
   "source": [
    "toCNF form2"
   ]
  },
  {
   "cell_type": "markdown",
   "id": "97b35bec-e007-43de-b490-9993302c1e98",
   "metadata": {},
   "source": [
    "## Distributive Law"
   ]
  },
  {
   "cell_type": "code",
   "execution_count": 48,
   "id": "134c33a6-9e4e-4e96-b9ad-b27f2be6aeac",
   "metadata": {
    "tags": []
   },
   "outputs": [],
   "source": [
    "distLaw :: PropL -> PropL \n",
    "distLaw ((p `PAnd` q) `POr` (r `PAnd` s)) = (distLaw p `POr` distLaw r) `PAnd` (distLaw p `POr` distLaw s) `PAnd` (distLaw q `POr` distLaw r) `PAnd` (distLaw q `POr` distLaw s) -- double distributivity\n",
    "distLaw (p `POr` (q `PAnd` r)) = (distLaw p `POr` distLaw q) `PAnd` (distLaw p `POr` r) --left dist\n",
    "distLaw ((q `PAnd` r) `POr` p) = (distLaw q `POr` distLaw p) `PAnd` (distLaw r `POr` distLaw p) --right dist\n",
    "distLaw (PNot p) = PNot (distLaw p)\n",
    "distLaw (p `PAnd` q) = distLaw p `PAnd` distLaw q\n",
    "distLaw (p `POr` q) = distLaw p `POr` distLaw q\n",
    "distLaw (PVar p) = PVar p"
   ]
  },
  {
   "cell_type": "code",
   "execution_count": 49,
   "id": "fc8de2b8-034d-4e6e-947a-d37bd81256d1",
   "metadata": {
    "tags": []
   },
   "outputs": [
    {
     "data": {
      "text/plain": [
       "((p3 | ~(~p1 | p3)) & (p3 | ~(~p1 | p3)))"
      ]
     },
     "metadata": {},
     "output_type": "display_data"
    }
   ],
   "source": [
    "distLaw form2"
   ]
  },
  {
   "cell_type": "code",
   "execution_count": 54,
   "id": "68b0447f-9333-4d0d-86a0-88c27894d4b6",
   "metadata": {
    "tags": []
   },
   "outputs": [],
   "source": [
    "toCNF = distLaw . dne . dM"
   ]
  },
  {
   "cell_type": "code",
   "execution_count": 55,
   "id": "8024cedc-c293-40ae-897a-09a2e794d50d",
   "metadata": {
    "tags": []
   },
   "outputs": [
    {
     "data": {
      "text/plain": [
       "((p3 | ~(~p1 | p3)) & (p3 | ~(~p1 | p3)))"
      ]
     },
     "metadata": {},
     "output_type": "display_data"
    }
   ],
   "source": [
    "toCNF form2"
   ]
  },
  {
   "cell_type": "markdown",
   "id": "40a130c3-eb13-4d71-8394-ea3b67a8efeb",
   "metadata": {
    "tags": []
   },
   "source": [
    "## Computing truth tables"
   ]
  },
  {
   "cell_type": "code",
   "execution_count": 94,
   "id": "88f86c64-531b-452d-a865-07509ee8c92e",
   "metadata": {
    "tags": []
   },
   "outputs": [],
   "source": [
    "type VarAssignment = [(String,Bool)]\n",
    "type TruthTable = [(VarAssignment,Bool)]"
   ]
  },
  {
   "cell_type": "code",
   "execution_count": null,
   "id": "19cdb9c4-7697-407d-9be1-3a4f6bef1ada",
   "metadata": {
    "tags": []
   },
   "outputs": [],
   "source": [
    "toTruthTable :: PropL -> TruthTable\n",
    "toTruthTable = undefined\n",
    "\n",
    "assign1 = [(\"p\",True),(\"q\",False)]"
   ]
  },
  {
   "cell_type": "markdown",
   "id": "58895cb3-3905-4636-9175-d35b22ea62bb",
   "metadata": {},
   "source": [
    "      p & q\n",
    "p q |\n",
    "1 1 |  1\n",
    "1 0 |  0\n",
    "0 1 |  0\n",
    "0 0 |  0"
   ]
  }
 ],
 "metadata": {
  "kernelspec": {
   "display_name": "haskell-minimal kernel",
   "language": "haskell",
   "name": "haskell-minimal"
  },
  "language_info": {
   "codemirror_mode": "Haskell",
   "file_extension": ".hs",
   "mimetype": "text/x-haskell",
   "name": "haskell",
   "pygments_lexer": "Haskell",
   "version": "9.0.2"
  }
 },
 "nbformat": 4,
 "nbformat_minor": 5
}
