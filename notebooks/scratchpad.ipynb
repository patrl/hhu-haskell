{
 "cells": [
  {
   "cell_type": "markdown",
   "id": "d93ac6eb-69a5-4f3a-9ce9-0e507a9f39ac",
   "metadata": {},
   "source": [
    "# Scratchpad\n",
    "\n",
    "Bits and pieces."
   ]
  },
  {
   "cell_type": "code",
   "execution_count": null,
   "id": "b96e9a0e-6e6d-49fb-9ad5-e91f1b39497d",
   "metadata": {
    "tags": []
   },
   "outputs": [
    {
     "data": {
      "text/plain": [
       "2"
      ]
     },
     "metadata": {},
     "output_type": "display_data"
    }
   ],
   "source": [
    "1 + 1"
   ]
  },
  {
   "cell_type": "code",
   "execution_count": null,
   "id": "ffbec4ca-8310-4d4c-bd69-3126b31789c0",
   "metadata": {},
   "outputs": [],
   "source": []
  }
 ],
 "metadata": {
  "kernelspec": {
   "display_name": "haskell-minimal kernel",
   "language": "haskell",
   "name": "haskell-minimal"
  },
  "language_info": {
   "codemirror_mode": "Haskell",
   "file_extension": ".hs",
   "mimetype": "text/x-haskell",
   "name": "haskell",
   "pygments_lexer": "Haskell",
   "version": "9.0.2"
  }
 },
 "nbformat": 4,
 "nbformat_minor": 5
}
