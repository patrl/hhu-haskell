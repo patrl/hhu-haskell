{
 "cells": [
  {
   "cell_type": "markdown",
   "id": "d93ac6eb-69a5-4f3a-9ce9-0e507a9f39ac",
   "metadata": {},
   "source": [
    "# Scratchpad\n",
    "\n",
    "Bits and pieces."
   ]
  }
 ],
 "metadata": {
  "kernelspec": {
   "display_name": "haskell-minimal kernel",
   "language": "haskell",
   "name": "haskell-minimal"
  },
  "language_info": {
   "codemirror_mode": "Haskell",
   "file_extension": ".hs",
   "mimetype": "text/x-haskell",
   "name": "haskell",
   "pygments_lexer": "Haskell",
   "version": "9.0.2"
  }
 },
 "nbformat": 4,
 "nbformat_minor": 5
}
